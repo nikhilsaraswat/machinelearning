{
  "nbformat": 4,
  "nbformat_minor": 0,
  "metadata": {
    "colab": {
      "name": "ML.ipynb",
      "provenance": [],
      "collapsed_sections": [
        "Lx9-Fre4FMda"
      ]
    },
    "kernelspec": {
      "name": "python3",
      "display_name": "Python 3"
    }
  },
  "cells": [
    {
      "cell_type": "markdown",
      "metadata": {
        "id": "GdMZR-9QTwG3"
      },
      "source": [
        "\n",
        "# **Initiate and Configure Spark**\n",
        "\n",
        "---\n"
      ]
    },
    {
      "cell_type": "code",
      "metadata": {
        "id": "_z0p88Xtw_3-",
        "colab": {
          "base_uri": "https://localhost:8080/"
        },
        "outputId": "6345b211-ed48-4d90-be34-7a3f692b0d1f"
      },
      "source": [
        "!pip3 install pyspark\n",
        "from pyspark.sql import SparkSession\n",
        "spark = (SparkSession\n",
        "         .builder\n",
        "         .appName(\"ML\")\n",
        "         .config(\"spark.some.config.option\",\"some-value\")\n",
        "         .getOrCreate())"
      ],
      "execution_count": null,
      "outputs": [
        {
          "output_type": "stream",
          "name": "stdout",
          "text": [
            "Collecting pyspark\n",
            "  Downloading pyspark-3.2.1.tar.gz (281.4 MB)\n",
            "\u001b[K     |████████████████████████████████| 281.4 MB 35 kB/s \n",
            "\u001b[?25hCollecting py4j==0.10.9.3\n",
            "  Downloading py4j-0.10.9.3-py2.py3-none-any.whl (198 kB)\n",
            "\u001b[K     |████████████████████████████████| 198 kB 58.0 MB/s \n",
            "\u001b[?25hBuilding wheels for collected packages: pyspark\n",
            "  Building wheel for pyspark (setup.py) ... \u001b[?25l\u001b[?25hdone\n",
            "  Created wheel for pyspark: filename=pyspark-3.2.1-py2.py3-none-any.whl size=281853642 sha256=eb79b218eb535dc32f6e0c4cec10a051203f024c954cf124bfaffdbde89e4c85\n",
            "  Stored in directory: /root/.cache/pip/wheels/9f/f5/07/7cd8017084dce4e93e84e92efd1e1d5334db05f2e83bcef74f\n",
            "Successfully built pyspark\n",
            "Installing collected packages: py4j, pyspark\n",
            "Successfully installed py4j-0.10.9.3 pyspark-3.2.1\n"
          ]
        }
      ]
    },
    {
      "cell_type": "markdown",
      "metadata": {
        "id": "6P2CZVl6TOQX"
      },
      "source": [
        "\n",
        "# **Load Data**\n",
        "\n",
        "---\n"
      ]
    },
    {
      "cell_type": "code",
      "metadata": {
        "id": "hc5GMMvdh5jD",
        "colab": {
          "base_uri": "https://localhost:8080/"
        },
        "outputId": "90be5de0-ca0e-49a8-87fd-159c15645d92"
      },
      "source": [
        "from google.colab import drive\n",
        "drive.mount('/content/drive')\n"
      ],
      "execution_count": null,
      "outputs": [
        {
          "output_type": "stream",
          "name": "stdout",
          "text": [
            "Drive already mounted at /content/drive; to attempt to forcibly remount, call drive.mount(\"/content/drive\", force_remount=True).\n"
          ]
        }
      ]
    },
    {
      "cell_type": "code",
      "source": [
        "UNSWNB15 = spark.read.csv('drive/MyDrive/UNSW-NB15.csv', inferSchema=True)"
      ],
      "metadata": {
        "id": "9Yg1YgV_rIlS"
      },
      "execution_count": null,
      "outputs": []
    },
    {
      "cell_type": "code",
      "source": [
        "UNSWNB15.columns"
      ],
      "metadata": {
        "colab": {
          "base_uri": "https://localhost:8080/"
        },
        "id": "JhOZHTanui3N",
        "outputId": "e044427f-c842-44e4-bb4d-3b43ae3de426"
      },
      "execution_count": null,
      "outputs": [
        {
          "output_type": "execute_result",
          "data": {
            "text/plain": [
              "['_c0',\n",
              " '_c1',\n",
              " '_c2',\n",
              " '_c3',\n",
              " '_c4',\n",
              " '_c5',\n",
              " '_c6',\n",
              " '_c7',\n",
              " '_c8',\n",
              " '_c9',\n",
              " '_c10',\n",
              " '_c11',\n",
              " '_c12',\n",
              " '_c13',\n",
              " '_c14',\n",
              " '_c15',\n",
              " '_c16',\n",
              " '_c17',\n",
              " '_c18',\n",
              " '_c19',\n",
              " '_c20',\n",
              " '_c21',\n",
              " '_c22',\n",
              " '_c23',\n",
              " '_c24',\n",
              " '_c25',\n",
              " '_c26',\n",
              " '_c27',\n",
              " '_c28',\n",
              " '_c29',\n",
              " '_c30',\n",
              " '_c31',\n",
              " '_c32',\n",
              " '_c33',\n",
              " '_c34',\n",
              " '_c35',\n",
              " '_c36',\n",
              " '_c37',\n",
              " '_c38',\n",
              " '_c39',\n",
              " '_c40',\n",
              " '_c41',\n",
              " '_c42',\n",
              " '_c43',\n",
              " '_c44',\n",
              " '_c45',\n",
              " '_c46',\n",
              " '_c47',\n",
              " '_c48']"
            ]
          },
          "metadata": {},
          "execution_count": 4
        }
      ]
    },
    {
      "cell_type": "code",
      "source": [
        "UNSWNB15 = (UNSWNB15.withColumnRenamed(\"_c0\",\"srcip\")\n",
        "    .withColumnRenamed(\"_c1\",\"sport\")\n",
        "    .withColumnRenamed(\"_c2\",\"dstip\")\n",
        "    .withColumnRenamed(\"_c3\",\"dsport\")\n",
        "    .withColumnRenamed(\"_c4\",\"proto\")\n",
        "    .withColumnRenamed(\"_c5\",\"state\")\n",
        "    .withColumnRenamed(\"_c6\",\"dur\")\n",
        "    .withColumnRenamed(\"_c7\",\"sbytes\")\n",
        "    .withColumnRenamed(\"_c8\",\"dbytes\")\n",
        "    .withColumnRenamed(\"_c9\",\"sttl\")\n",
        "    .withColumnRenamed(\"_c10\",\"dttl\")\n",
        "    .withColumnRenamed(\"_c11\",\"sloss\")\n",
        "    .withColumnRenamed(\"_c12\",\"dloss\")\n",
        "    .withColumnRenamed(\"_c13\",\"service\")\n",
        "    .withColumnRenamed(\"_c14\",\"Sload\")\n",
        "    .withColumnRenamed(\"_c15\",\"Dload\")\n",
        "    .withColumnRenamed(\"_c16\",\"Spkts\")\n",
        "    .withColumnRenamed(\"_c17\",\"Dpkts\")\n",
        "    .withColumnRenamed(\"_c18\",\"swin\")\n",
        "    .withColumnRenamed(\"_c19\",\"dwin\")\n",
        "    .withColumnRenamed(\"_c20\",\"stcpb\")\n",
        "    .withColumnRenamed(\"_c21\",\"dtcpb\")\n",
        "    .withColumnRenamed(\"_c22\",\"smeansz\")\n",
        "    .withColumnRenamed(\"_c23\",\"dmeansz\")\n",
        "    .withColumnRenamed(\"_c24\",\"trans_depth\")\n",
        "    .withColumnRenamed(\"_c25\",\"res_bdy_len\")\n",
        "    .withColumnRenamed(\"_c26\",\"Sjit\")\n",
        "    .withColumnRenamed(\"_c27\",\"Djit\")\n",
        "    .withColumnRenamed(\"_c28\",\"Stime\")\n",
        "    .withColumnRenamed(\"_c29\",\"Ltime\")\n",
        "    .withColumnRenamed(\"_c30\",\"Sintpkt\")\n",
        "    .withColumnRenamed(\"_c31\",\"Dintpkt\")\n",
        "    .withColumnRenamed(\"_c32\",\"tcprtt\")\n",
        "    .withColumnRenamed(\"_c33\",\"synack\")\n",
        "    .withColumnRenamed(\"_c34\",\"ackdat\")\n",
        "    .withColumnRenamed(\"_c35\",\"is_sm_ips_ports\")\n",
        "    .withColumnRenamed(\"_c36\",\"ct_state_ttl\")\n",
        "    .withColumnRenamed(\"_c37\",\"ct_flw_http_mthd\")\n",
        "    .withColumnRenamed(\"_c38\",\"is_ftp_login\")\n",
        "    .withColumnRenamed(\"_c39\",\"ct_ftp_cmd\")\n",
        "    .withColumnRenamed(\"_c40\",\"ct_srv_src\")\n",
        "    .withColumnRenamed(\"_c41\",\"ct_srv_dst\")\n",
        "    .withColumnRenamed(\"_c42\",\"ct_dst_ltm\")\n",
        "    .withColumnRenamed(\"_c43\",\"ct_src_ltm\")\n",
        "    .withColumnRenamed(\"_c44\",\"ct_src_dport_ltm\")\n",
        "    .withColumnRenamed(\"_c45\",\"ct_dst_sport_ltm\")\n",
        "    .withColumnRenamed(\"_c46\",\"ct_dst_src_ltm\")\n",
        "    .withColumnRenamed(\"_c47\",\"attack_cat\")\n",
        "    .withColumnRenamed(\"_c48\",\"Label\")\n",
        "   )\n",
        "   \n",
        "UNSWNB15.show()"
      ],
      "metadata": {
        "colab": {
          "base_uri": "https://localhost:8080/"
        },
        "id": "IJOLmgKj0bJT",
        "outputId": "6732df40-8977-43e3-fc0c-ab832cd1b612"
      },
      "execution_count": null,
      "outputs": [
        {
          "output_type": "stream",
          "name": "stdout",
          "text": [
            "+----------+-----+-------------+------+-----+-----+------------+------+------+----+----+-----+-----+--------+---------+---------+-----+-----+----+----+----------+----------+-------+-------+-----------+-----------+----------+---------+----------+----------+------------+------------+------------+------------+------------+---------------+------------+----------------+------------+----------+----------+----------+----------+----------+----------------+----------------+--------------+----------+-----+\n",
            "|     srcip|sport|        dstip|dsport|proto|state|         dur|sbytes|dbytes|sttl|dttl|sloss|dloss| service|    Sload|    Dload|Spkts|Dpkts|swin|dwin|     stcpb|     dtcpb|smeansz|dmeansz|trans_depth|res_bdy_len|      Sjit|     Djit|     Stime|     Ltime|     Sintpkt|     Dintpkt|      tcprtt|      synack|      ackdat|is_sm_ips_ports|ct_state_ttl|ct_flw_http_mthd|is_ftp_login|ct_ftp_cmd|ct_srv_src|ct_srv_dst|ct_dst_ltm|ct_src_ltm|ct_src_dport_ltm|ct_dst_sport_ltm|ct_dst_src_ltm|attack_cat|Label|\n",
            "+----------+-----+-------------+------+-----+-----+------------+------+------+----+----+-----+-----+--------+---------+---------+-----+-----+----+----+----------+----------+-------+-------+-----------+-----------+----------+---------+----------+----------+------------+------------+------------+------------+------------+---------------+------------+----------------+------------+----------+----------+----------+----------+----------+----------------+----------------+--------------+----------+-----+\n",
            "|59.166.0.3|56716|149.171.126.8|   143|  tcp|  FIN|  0.82546002|  7812| 16236|  31|  29|   30|   32|       -| 75090.25|156111.73|  122|  126| 255| 255|2751097753|2748686736|     64|    129|          0|          0| 445.25928| 474.9451|1421970774|1421970775|   6.8190908|    6.599896|5.9700001E-4|4.6899999E-4|     1.28E-4|              0|           0|               0|           0|         0|         2|         7|         1|         4|               1|               1|             1|      null|    0|\n",
            "|59.166.0.0|43467|149.171.126.6| 49729|  tcp|  FIN|    0.101815|  4238| 65628|  31|  29|    7|   30|       -|328438.84|5087030.5|   72|   74| 255| 255| 961515433|3225510659|     59|    887|          0|          0|       0.0|91.579567|1421970775|1421970775|    1.429493|    1.387192|      6.8E-4|5.4600002E-4|     1.34E-4|              0|           0|               0|           0|         0|         7|         4|         1|         6|               1|               1|             1|      null|    0|\n",
            "|59.166.0.5|41289|149.171.126.2|  9574|  tcp|  FIN| 0.044002999|  2750| 29104|  31|  29|    7|   17|       -|488693.97|5181101.5|   44|   48| 255| 255|3291096757|1191410228|     63|    606|          0|          0| 78.126968|62.206562|1421970775|1421970775|    1.014977|  0.92583001|     0.00125|     4.85E-4|     7.65E-4|              0|           0|               0|           0|         0|         3|         5|         3|         3|               1|               1|             1|      null|    0|\n",
            "|59.166.0.9|43785|149.171.126.0|  6881|  tcp|  FIN|   2.7908299| 10476|395734|  31|  29|   16|  143|       -|29863.518|1130840.8|  180|  320| 255| 255|3934392726|3961690324|     58|   1237|          0|          0| 2707.4927| 2018.976|1421970772|1421970775|   15.589459|   8.7470121|6.8400003E-4|5.3199998E-4|1.5199999E-4|              0|           0|               0|           0|         0|        11|         4|         3|         2|               1|               1|             1|      null|    0|\n",
            "|59.166.0.8|40691|149.171.126.9|  6881|  tcp|  FIN|   2.6335001| 13350|548216|  31|  29|   21|  197|       -|40381.238|1661560.6|  232|  438| 255| 255|   1518931|  18267719|     58|   1252|          0|          0| 718.33679|500.57288|1421970773|1421970775|   11.399026|   6.0251832|     6.19E-4|     4.89E-4|      1.3E-4|              0|           0|               0|           0|         0|        16|         7|         7|         1|               1|               1|             1|      null|    0|\n",
            "|59.166.0.3|20393|149.171.126.3|  5190|  tcp|  FIN|    0.115048|  1958|  2308|  31|  29|    6|    6|       -|129963.15|153814.06|   22|   24| 255| 255|3646899201|3651364285|     89|     96|          0|          0| 435.26627|417.08563|1421970775|1421970775|    5.460381|    4.976913|7.0999999E-4|     5.73E-4|     1.37E-4|              0|           0|               0|           0|         0|         2|         6|         1|         4|               1|               1|             1|      null|    0|\n",
            "|59.166.0.7|19792|149.171.126.0|    53|  udp|  CON|    0.003362|   146|   178|  31|  29|    0|    0|     dns|173706.13| 211778.7|    2|    2|   0|   0|         0|         0|     73|     89|          0|          0|       0.0|      0.0|1421970775|1421970775|       0.011|0.0060000001|         0.0|         0.0|         0.0|              0|           0|               0|           0|         0|         3|         2|         3|         3|               3|               1|             1|      null|    0|\n",
            "|59.166.0.3|14382|149.171.126.9|  3354|  tcp|  FIN|  0.45305201|   424|  8824|  31|  29|    1|    4|ftp-data| 6551.124| 142835.7|    8|   12| 255| 255|2206905053|3307670308|     53|    735|          0|          0| 3906.7949|3074.6694|1421970775|1421970775|   64.671288|   41.134998|      6.8E-4|5.5900001E-4|     1.21E-4|              0|           0|               0|           0|         0|         4|         6|         7|         4|               1|               1|             2|      null|    0|\n",
            "|59.166.0.9|37074|149.171.126.2|    53|  udp|  CON|    0.001088|   146|   178|  31|  29|    0|    0|     dns|536764.69|654411.75|    2|    2|   0|   0|         0|         0|     73|     89|          0|          0|       0.0|      0.0|1421970775|1421970775|       0.001|0.0089999996|         0.0|         0.0|         0.0|              0|           0|               0|           0|         0|         2|         5|         3|         2|               1|               1|             1|      null|    0|\n",
            "|59.166.0.7|12569|149.171.126.5|    53|  udp|  CON|9.6899999E-4|   146|   178|  31|  29|    0|    0|     dns|602683.19|734778.13|    2|    2|   0|   0|         0|         0|     73|     89|          0|          0|       0.0|      0.0|1421970775|1421970775|0.0099999998|       0.003|         0.0|         0.0|         0.0|              0|           0|               0|           0|         0|         3|         1|         2|         3|               3|               1|             1|      null|    0|\n",
            "|59.166.0.1|12792|149.171.126.7|    53|  udp|  CON|0.0010629999|   146|   178|  31|  29|    0|    0|     dns|549388.56| 669802.5|    2|    2|   0|   0|         0|         0|     73|     89|          0|          0|       0.0|      0.0|1421970780|1421970780|0.0020000001|       0.003|         0.0|         0.0|         0.0|              0|           0|               0|           0|         0|         5|         3|         2|         4|               3|               1|             1|      null|    0|\n",
            "|59.166.0.0|63414|149.171.126.9| 10330|  tcp|  FIN|  0.26501101|  8928|   320|  31|  29|    4|    1|ftp-data|250283.94|8060.0425|   14|    6| 255| 255|2386904726|3699988372|    638|     53|          0|          0| 1725.2916|71.464249|1421970775|1421970776|   20.385462|   52.644802|7.7500002E-4|6.3299999E-4|     1.42E-4|              0|           0|               0|           0|         0|         3|         6|         6|         5|               1|               1|             2|      null|    0|\n",
            "|59.166.0.1|33555|149.171.126.3|  6881|  tcp|  FIN|  0.51712799|  1540|  1644|  31|  29|    4|    4|       -|22338.764|  24025.0|   16|   18| 255| 255|1741520309|3943579644|     96|     91|          0|          0| 2036.1301| 51.91766|1421970776|1421970776|   34.433331|   30.388353|6.5399997E-4|5.2200002E-4|     1.32E-4|              0|           0|               0|           0|         0|         4|         6|         5|         7|               4|               1|             4|      null|    0|\n",
            "|59.166.0.8|10867|149.171.126.8|   111|  udp|  CON|0.0053389999|   568|   312|  31|  29|    0|    0|       -|638321.81|350627.47|    4|    4|   0|   0|         0|         0|    142|     78|          0|          0| 1.7430201| 1.757632|1421970776|1421970776|        1.24|    1.252333|         0.0|         0.0|         0.0|              0|           0|               0|           0|         0|        16|         7|         5|         5|               1|               1|             4|      null|    0|\n",
            "|59.166.0.8|12411|149.171.126.8|  1715|  udp|  CON|    0.001739|   512|   304|  31|  29|    0|    0|       -|1766532.5|1048878.6|    4|    4|   0|   0|         0|         0|    128|     76|          0|          0|0.63026798| 0.318434|1421970776|1421970776|  0.44966701|    0.227667|         0.0|         0.0|         0.0|              0|           0|               0|           0|         0|        16|         7|         5|         5|               1|               1|             4|      null|    0|\n",
            "|59.166.0.8|46725|149.171.126.2|    53|  udp|  CON|    0.001018|   146|   178|  31|  29|    0|    0|     dns|573673.88|699410.63|    2|    2|   0|   0|         0|         0|     73|     89|          0|          0|       0.0|      0.0|1421970776|1421970776|       0.011|       0.011|         0.0|         0.0|         0.0|              0|           0|               0|           0|         0|         2|         5|         3|         5|               1|               1|             1|      null|    0|\n",
            "|59.166.0.1|51562|149.171.126.4|    53|  udp|  CON|    0.001044|   146|   178|  31|  29|    0|    0|     dns|559386.94|681992.31|    2|    2|   0|   0|         0|         0|     73|     89|          0|          0|       0.0|      0.0|1421970776|1421970776|       0.011|       0.003|         0.0|         0.0|         0.0|              0|           0|               0|           0|         0|         2|         3|         5|         7|               2|               1|             3|      null|    0|\n",
            "|59.166.0.3|48838|149.171.126.2|    53|  udp|  CON|9.8699995E-4|   146|   178|  31|  29|    0|    0|     dns| 591692.0|721377.94|    2|    2|   0|   0|         0|         0|     73|     89|          0|          0|       0.0|      0.0|1421970776|1421970776|0.0080000004|       0.003|         0.0|         0.0|         0.0|              0|           0|               0|           0|         0|         2|         5|         3|         3|               1|               1|             1|      null|    0|\n",
            "|59.166.0.0|16907|149.171.126.9|    21|  tcp|  FIN|   2.2547121|  2934|  3740|  31|  29|   11|   15|     ftp|10211.503|13025.166|   52|   54| 255| 255| 241515551|2584135680|     56|     69|          0|          0| 3141.3708| 99.93412|1421970773|1421970776|   44.203648|   42.531734|6.6100003E-4|5.2499998E-4|     1.36E-4|              0|           0|               0|           0|         0|         1|         3|         6|         5|               1|               1|             2|      null|    0|\n",
            "|59.166.0.0| 1915|149.171.126.4| 32945|  tcp|  FIN| 0.051220998|  2854| 29104|  31|  29|    7|   17|       -|436071.16|4450987.0|   46|   48| 255| 255|1921515932|1974066994|     62|    606|          0|          0| 78.226654|76.387978|1421970776|1421970776|   1.1294219|   1.0781699|      8.1E-4|     5.43E-4|     2.67E-4|              0|           0|               0|           0|         0|         7|         2|         5|         5|               1|               1|             2|      null|    0|\n",
            "+----------+-----+-------------+------+-----+-----+------------+------+------+----+----+-----+-----+--------+---------+---------+-----+-----+----+----+----------+----------+-------+-------+-----------+-----------+----------+---------+----------+----------+------------+------------+------------+------------+------------+---------------+------------+----------------+------------+----------+----------+----------+----------+----------+----------------+----------------+--------------+----------+-----+\n",
            "only showing top 20 rows\n",
            "\n"
          ]
        }
      ]
    },
    {
      "cell_type": "code",
      "source": [
        "UNSWNB15.describe().select(\"Summary\",\"srcip\",\"sport\",\"dstip\",\"dsport\",\"proto\",\"state\",\"dur\",\"sbytes\",\"dbytes\").show()"
      ],
      "metadata": {
        "colab": {
          "base_uri": "https://localhost:8080/"
        },
        "id": "kgphDwJ97THH",
        "outputId": "e3baf948-27a8-4a0e-ec6d-06ff49a9b442"
      },
      "execution_count": null,
      "outputs": [
        {
          "output_type": "stream",
          "name": "stdout",
          "text": [
            "+-------+-----------+------------------+-----------+------------------+-------+-------+------------------+-----------------+------------------+\n",
            "|Summary|      srcip|             sport|      dstip|            dsport|  proto|  state|               dur|           sbytes|            dbytes|\n",
            "+-------+-----------+------------------+-----------+------------------+-------+-------+------------------+-----------------+------------------+\n",
            "|  count|    2539739|           2539739|    2539739|           2539739|2539739|2539739|           2539739|          2539739|           2539739|\n",
            "|   mean|       null| 30536.93108583205|       null|11235.096788685767|   null|   null|0.6588634003800393|4340.072263330996| 36432.01132478574|\n",
            "| stddev|       null|20441.216792342224|       null| 18438.20083577165|   null|   null|13.925767633289283|56409.39812286232|161105.30400824756|\n",
            "|    min|10.40.170.2|                 0|10.40.170.2|                 0|    3pc|    ACC|               0.0|                0|                 0|\n",
            "|    max| 59.166.0.9|             65535| 59.166.0.9|             65535|   zero|     no|         8786.6377|         14355774|          14657531|\n",
            "+-------+-----------+------------------+-----------+------------------+-------+-------+------------------+-----------------+------------------+\n",
            "\n"
          ]
        }
      ]
    },
    {
      "cell_type": "code",
      "source": [
        "UNSWNB15.describe().select(\"Summary\",\"sttl\",\"dttl\",\"sloss\",\"dloss\",\"service\",\"Sload\",\"Dload\",\"Spkts\").show()"
      ],
      "metadata": {
        "colab": {
          "base_uri": "https://localhost:8080/"
        },
        "id": "fd6KRinf9JvI",
        "outputId": "c4d63dad-f6b0-4b9e-d6f9-b54d8a52f2dc"
      },
      "execution_count": null,
      "outputs": [
        {
          "output_type": "stream",
          "name": "stdout",
          "text": [
            "+-------+-----------------+------------------+-----------------+------------------+-------+--------------------+-----------------+-----------------+\n",
            "|Summary|             sttl|              dttl|            sloss|             dloss|service|               Sload|            Dload|            Spkts|\n",
            "+-------+-----------------+------------------+-----------------+------------------+-------+--------------------+-----------------+-----------------+\n",
            "|  count|          2539739|           2539739|          2539739|           2539739|2539739|             2539739|          2539739|          2539739|\n",
            "|   mean|62.78149802007214|   30.770440978384|5.164547223159545|16.331423819534212|   null| 3.694927939363408E7|2451158.440857539| 33.2925678583508|\n",
            "| stddev|74.62669956848524|42.851922189518724|22.51836838779722|56.597890353205116|   null|1.1860413786386509E8|4225032.897503491|76.28775585678378|\n",
            "|    min|                0|                 0|                0|                 0|      -|                 0.0|              0.0|                0|\n",
            "|    max|              255|               254|             5319|              5507|    ssl|         5.9880003E9|       1.287619E8|            10646|\n",
            "+-------+-----------------+------------------+-----------------+------------------+-------+--------------------+-----------------+-----------------+\n",
            "\n"
          ]
        }
      ]
    },
    {
      "cell_type": "code",
      "source": [
        "UNSWNB15.describe().select(\"Summary\",\"Dpkts\",\"swin\",\"dwin\",\"stcpb\",\"dtcpb\",\"smeansz\",\"dmeansz\").show()\n"
      ],
      "metadata": {
        "colab": {
          "base_uri": "https://localhost:8080/"
        },
        "id": "kj7Z9UFV_KYu",
        "outputId": "cd483790-f7e3-45f8-c398-7cb9dbb695e5"
      },
      "execution_count": null,
      "outputs": [
        {
          "output_type": "stream",
          "name": "stdout",
          "text": [
            "+-------+------------------+------------------+------------------+--------------------+--------------------+------------------+------------------+\n",
            "|Summary|             Dpkts|              swin|              dwin|               stcpb|               dtcpb|           smeansz|           dmeansz|\n",
            "+-------+------------------+------------------+------------------+--------------------+--------------------+------------------+------------------+\n",
            "|  count|           2539739|           2539739|           2539739|             2539739|             2539739|           2539739|           2539739|\n",
            "|   mean|42.731821655689814|150.10695075360107|149.76404347060858|1.2618542900429437E9|1.2619194806546414E9|124.25270588828222|276.70543193611627|\n",
            "| stddev|121.50842004704197|125.47913122211004|125.54062192608511| 1.422045057823864E9| 1.422157469789883E9|151.92108772283464| 335.6231650135929|\n",
            "|    min|                 0|                 0|                 0|                   0|                   0|                 0|                 0|\n",
            "|    max|             11018|               255|               255|          4294958913|          4294953724|              1504|              1500|\n",
            "+-------+------------------+------------------+------------------+--------------------+--------------------+------------------+------------------+\n",
            "\n"
          ]
        }
      ]
    },
    {
      "cell_type": "code",
      "source": [
        "UNSWNB15.describe().select(\"Summary\",\"trans_depth\",\"res_bdy_len\",\"Sjit\",\"Djit\",\"Stime\",\"Ltime\",\"Sintpkt\").show()   "
      ],
      "metadata": {
        "colab": {
          "base_uri": "https://localhost:8080/"
        },
        "id": "WNctcP43AW1-",
        "outputId": "c4f334c3-005f-4794-a03f-604db05b7a50"
      },
      "execution_count": null,
      "outputs": [
        {
          "output_type": "stream",
          "name": "stdout",
          "text": [
            "+-------+-------------------+------------------+------------------+------------------+--------------------+--------------------+------------------+\n",
            "|Summary|        trans_depth|       res_bdy_len|              Sjit|              Djit|               Stime|               Ltime|           Sintpkt|\n",
            "+-------+-------------------+------------------+------------------+------------------+--------------------+--------------------+------------------+\n",
            "|  count|            2539739|           2539739|           2539739|           2539739|             2539739|             2539739|           2539739|\n",
            "|   mean|0.08326328020320198| 4242.632264575218|1589.1543650105623| 730.1640026779703|1.4232606949103932E9|1.4232606956744623E9| 193.0465504924596|\n",
            "| stddev|0.35002455674771116|47503.383153168135|16911.377637309888|3438.7574708801694|  1134456.4636742047|  1134456.2648463438|2778.5830034350847|\n",
            "|    min|                  0|                 0|               0.0|               0.0|          1421927377|          1421927414|               0.0|\n",
            "|    max|                172|           6558056|         1483830.9|         781221.13|          1424262068|          1424262069|         84371.492|\n",
            "+-------+-------------------+------------------+------------------+------------------+--------------------+--------------------+------------------+\n",
            "\n"
          ]
        }
      ]
    },
    {
      "cell_type": "code",
      "source": [
        "UNSWNB15.describe().select(\"Summary\",\"Dintpkt\",\"tcprtt\",\"synack\",\"ackdat\",\"is_sm_ips_ports\",\"ct_state_ttl\").show() "
      ],
      "metadata": {
        "colab": {
          "base_uri": "https://localhost:8080/"
        },
        "id": "hXzjwRZmBZZM",
        "outputId": "bd3bdb96-4e11-4190-f91e-621a2d65177c"
      },
      "execution_count": null,
      "outputs": [
        {
          "output_type": "stream",
          "name": "stdout",
          "text": [
            "+-------+-----------------+--------------------+--------------------+-------------------+--------------------+-------------------+\n",
            "|Summary|          Dintpkt|              tcprtt|              synack|             ackdat|     is_sm_ips_ports|       ct_state_ttl|\n",
            "+-------+-----------------+--------------------+--------------------+-------------------+--------------------+-------------------+\n",
            "|  count|          2539739|             2539739|             2539739|            2539739|             2539739|            2539739|\n",
            "|   mean|78.83432357570544|0.006181224255109452|0.003287993858563316|0.00289323039543641|0.001651744529654425|0.26118471228736495|\n",
            "| stddev|1433.278071549331|  0.0461613828526482|0.025937245439328835|0.02394810919858883|0.040608089328964335| 0.6831310323762818|\n",
            "|    min|              0.0|                 0.0|                 0.0|                0.0|                   0|                  0|\n",
            "|    max|         59485.32|           10.037506|           4.5252719|          5.5122342|                   1|                  6|\n",
            "+-------+-----------------+--------------------+--------------------+-------------------+--------------------+-------------------+\n",
            "\n"
          ]
        }
      ]
    },
    {
      "cell_type": "code",
      "source": [
        "UNSWNB15.describe().select(\"Summary\",\"ct_flw_http_mthd\",\"is_ftp_login\",\"ct_ftp_cmd\",\"ct_srv_src\",\"ct_srv_dst\",\"ct_dst_ltm\").show()"
      ],
      "metadata": {
        "colab": {
          "base_uri": "https://localhost:8080/"
        },
        "id": "h3_NqJFkCVC9",
        "outputId": "9ab67ca5-e0f1-468a-8ad4-882d56b2e207"
      },
      "execution_count": null,
      "outputs": [
        {
          "output_type": "stream",
          "name": "stdout",
          "text": [
            "+-------+-------------------+-------------------+--------------------+------------------+------------------+-----------------+\n",
            "|Summary|   ct_flw_http_mthd|       is_ftp_login|          ct_ftp_cmd|        ct_srv_src|        ct_srv_dst|       ct_dst_ltm|\n",
            "+-------+-------------------+-------------------+--------------------+------------------+------------------+-----------------+\n",
            "|  count|            2539739|            2539739|             2539739|           2539739|           2539739|          2539739|\n",
            "|   mean|0.11009123378425893|0.01735335796316078|0.020560380417042855| 9.207911915358231| 8.989882818667587|6.439727074317479|\n",
            "| stddev| 0.5564518805021055|0.13346510417617913|  0.1843730431164465|10.837080948770966|10.822813466163238|8.162329925209063|\n",
            "|    min|                  0|                  0|                   0|                 1|                 1|                1|\n",
            "|    max|                 36|                  4|                   8|                67|                67|               67|\n",
            "+-------+-------------------+-------------------+--------------------+------------------+------------------+-----------------+\n",
            "\n"
          ]
        }
      ]
    },
    {
      "cell_type": "code",
      "source": [
        "UNSWNB15.describe().select(\"Summary\",\"ct_src_ltm\",\"ct_src_dport_ltm\",\"ct_dst_sport_ltm\",\"ct_dst_src_ltm\",\"attack_cat\",\"Label\").show()"
      ],
      "metadata": {
        "colab": {
          "base_uri": "https://localhost:8080/"
        },
        "id": "rkyCr24CC7E1",
        "outputId": "528d5ef4-0930-4459-afc2-a0883383c2c0"
      },
      "execution_count": null,
      "outputs": [
        {
          "output_type": "stream",
          "name": "stdout",
          "text": [
            "+-------+-----------------+-----------------+-----------------+------------------+----------+-------------------+\n",
            "|Summary|       ct_src_ltm| ct_src_dport_ltm| ct_dst_sport_ltm|    ct_dst_src_ltm|attack_cat|              Label|\n",
            "+-------+-----------------+-----------------+-----------------+------------------+----------+-------------------+\n",
            "|  count|          2539739|          2539739|          2539739|           2539739|    321283|            2539739|\n",
            "|   mean|6.901640286659378|4.642571933572702|3.593031803661715|  6.84655746121944|      null| 0.1265023689442104|\n",
            "| stddev|8.205340175616495|8.478001123292248|6.174757636883334|11.258797786324628|      null|0.33241474561750184|\n",
            "|    min|                1|                1|                1|                 1|  Analysis|                  0|\n",
            "|    max|               67|               67|               60|                67|     Worms|                  1|\n",
            "+-------+-----------------+-----------------+-----------------+------------------+----------+-------------------+\n",
            "\n"
          ]
        }
      ]
    },
    {
      "cell_type": "code",
      "source": [
        "from pyspark.sql.functions import col, isnan, when, count\n",
        "UNSWNB15.select([count(when(isnan(c)| col(c).isNull(),c)).alias(c) for c in UNSWNB15.columns]).show()"
      ],
      "metadata": {
        "colab": {
          "base_uri": "https://localhost:8080/"
        },
        "id": "286sGUIsEAwO",
        "outputId": "3d07fa1c-6ea4-4479-988c-41cae3fe6075"
      },
      "execution_count": null,
      "outputs": [
        {
          "output_type": "stream",
          "name": "stdout",
          "text": [
            "+-----+-----+-----+------+-----+-----+---+------+------+----+----+-----+-----+-------+-----+-----+-----+-----+----+----+-----+-----+-------+-------+-----------+-----------+----+----+-----+-----+-------+-------+------+------+------+---------------+------------+----------------+------------+----------+----------+----------+----------+----------+----------------+----------------+--------------+----------+-----+\n",
            "|srcip|sport|dstip|dsport|proto|state|dur|sbytes|dbytes|sttl|dttl|sloss|dloss|service|Sload|Dload|Spkts|Dpkts|swin|dwin|stcpb|dtcpb|smeansz|dmeansz|trans_depth|res_bdy_len|Sjit|Djit|Stime|Ltime|Sintpkt|Dintpkt|tcprtt|synack|ackdat|is_sm_ips_ports|ct_state_ttl|ct_flw_http_mthd|is_ftp_login|ct_ftp_cmd|ct_srv_src|ct_srv_dst|ct_dst_ltm|ct_src_ltm|ct_src_dport_ltm|ct_dst_sport_ltm|ct_dst_src_ltm|attack_cat|Label|\n",
            "+-----+-----+-----+------+-----+-----+---+------+------+----+----+-----+-----+-------+-----+-----+-----+-----+----+----+-----+-----+-------+-------+-----------+-----------+----+----+-----+-----+-------+-------+------+------+------+---------------+------------+----------------+------------+----------+----------+----------+----------+----------+----------------+----------------+--------------+----------+-----+\n",
            "|    0|    0|    0|     0|    0|    0|  0|     0|     0|   0|   0|    0|    0|      0|    0|    0|    0|    0|   0|   0|    0|    0|      0|      0|          0|          0|   0|   0|    0|    0|      0|      0|     0|     0|     0|              0|           0|               0|           0|         0|         0|         0|         0|         0|               0|               0|             0|   2218456|    0|\n",
            "+-----+-----+-----+------+-----+-----+---+------+------+----+----+-----+-----+-------+-----+-----+-----+-----+----+----+-----+-----+-------+-------+-----------+-----------+----+----+-----+-----+-------+-------+------+------+------+---------------+------------+----------------+------------+----------+----------+----------+----------+----------+----------------+----------------+--------------+----------+-----+\n",
            "\n"
          ]
        }
      ]
    },
    {
      "cell_type": "code",
      "source": [
        "UNSWNB15 = UNSWNB15.withColumn(\"attack_cat\",when(UNSWNB15.attack_cat.isNull(),0).otherwise(UNSWNB15.attack_cat))"
      ],
      "metadata": {
        "id": "HTnqGkiHTtsO"
      },
      "execution_count": null,
      "outputs": []
    },
    {
      "cell_type": "code",
      "source": [
        "import numpy as np\n",
        "from pyspark.sql.functions import when\n",
        "UNSWNB15 = UNSWNB15.withColumn(\"dur\",when(UNSWNB15.dur==0,np.nan).otherwise (UNSWNB15.dur))\n",
        "UNSWNB15 = UNSWNB15.withColumn(\"sbytes\", when(UNSWNB15.sbytes==0,np.nan).otherwise(UNSWNB15.sbytes))\n",
        "UNSWNB15 = UNSWNB15.withColumn(\"dbytes\", when(UNSWNB15.dbytes==0,np.nan).otherwise(UNSWNB15.dbytes))\n",
        "UNSWNB15 = UNSWNB15.withColumn(\"sttl\",when(UNSWNB15.sttl==0,np.nan).otherwise(UNSWNB15.sttl))\n",
        "UNSWNB15 = UNSWNB15.withColumn(\"dttl\",when(UNSWNB15.dttl==0,np.nan).otherwise(UNSWNB15.dttl))\n",
        "UNSWNB15 = UNSWNB15.withColumn(\"sloss\",when(UNSWNB15.sloss==0,np.nan).otherwise(UNSWNB15.sloss))\n",
        "UNSWNB15 = UNSWNB15.withColumn(\"dloss\",when(UNSWNB15.dloss==0,np.nan).otherwise(UNSWNB15.dloss))\n",
        "UNSWNB15 = UNSWNB15.withColumn(\"Sload\",when(UNSWNB15.Sload==0,np.nan).otherwise(UNSWNB15.Sload))\n",
        "UNSWNB15 = UNSWNB15.withColumn(\"Dload\",when(UNSWNB15.Dload==0,np.nan).otherwise(UNSWNB15.Dload))\n",
        "UNSWNB15 = UNSWNB15.withColumn(\"Spkts\",when(UNSWNB15.Spkts==0,np.nan).otherwise(UNSWNB15.Spkts))\n",
        "UNSWNB15 = UNSWNB15.withColumn(\"Dpkts\",when(UNSWNB15.Dpkts==0,np.nan).otherwise(UNSWNB15.Dpkts))\n",
        "UNSWNB15 = UNSWNB15.withColumn(\"swin\",when(UNSWNB15.swin==0,np.nan).otherwise(UNSWNB15.swin))\n",
        "UNSWNB15 = UNSWNB15.withColumn(\"dwin\",when(UNSWNB15.dwin==0,np.nan).otherwise(UNSWNB15.dwin))\n",
        "UNSWNB15 = UNSWNB15.withColumn(\"stcpb\",when(UNSWNB15.stcpb==0,np.nan).otherwise(UNSWNB15.stcpb))\n",
        "UNSWNB15 = UNSWNB15.withColumn(\"dtcpb\",when(UNSWNB15.dtcpb==0,np.nan).otherwise(UNSWNB15.dtcpb))\n",
        "UNSWNB15 = UNSWNB15.withColumn(\"smeansz\",when(UNSWNB15.smeansz==0,np.nan).otherwise(UNSWNB15.smeansz))\n",
        "UNSWNB15 = UNSWNB15.withColumn(\"dmeansz\",when(UNSWNB15.dmeansz==0,np.nan).otherwise(UNSWNB15.dmeansz))\n",
        "UNSWNB15 = UNSWNB15.withColumn(\"trans_depth\",when(UNSWNB15.trans_depth==0,np.nan).otherwise(UNSWNB15.trans_depth))\n",
        "UNSWNB15 = UNSWNB15.withColumn(\"res_bdy_len\",when(UNSWNB15.res_bdy_len==0,np.nan).otherwise(UNSWNB15.res_bdy_len))\n",
        "UNSWNB15 = UNSWNB15.withColumn(\"Sjit\",when(UNSWNB15.Sjit==0,np.nan).otherwise(UNSWNB15.Sjit))\n",
        "UNSWNB15 = UNSWNB15.withColumn(\"Djit\",when(UNSWNB15.Djit==0,np.nan).otherwise(UNSWNB15.Djit))\n",
        "UNSWNB15 = UNSWNB15.withColumn(\"Sintpkt\",when(UNSWNB15.Sintpkt==0,np.nan).otherwise(UNSWNB15.Sintpkt))\n",
        "UNSWNB15 = UNSWNB15.withColumn(\"Dintpkt\",when(UNSWNB15.Dintpkt==0,np.nan).otherwise(UNSWNB15.Dintpkt))\n",
        "UNSWNB15 = UNSWNB15.withColumn(\"tcprtt\",when(UNSWNB15.tcprtt==0,np.nan).otherwise(UNSWNB15.tcprtt))\n",
        "UNSWNB15 = UNSWNB15.withColumn(\"synack\",when(UNSWNB15.synack==0,np.nan).otherwise(UNSWNB15.synack))\n",
        "UNSWNB15 = UNSWNB15.withColumn(\"ackdat\",when(UNSWNB15.ackdat==0,np.nan).otherwise(UNSWNB15.ackdat))\n",
        "UNSWNB15.select(\"dur\",\"sbytes\",\"dbytes\",\"sttl\",\"dttl\",\"sloss\",\"dloss\",\"Sload\",\"Dload\",\"Spkts\",\"Dpkts\",\"swin\",\"dwin\",\"stcpb\",\"dtcpb\",\"smeansz\",\"dmeansz\",\n",
        "                \"trans_depth\",\"res_bdy_len\",\"Sjit\",\"Djit\",\"Sintpkt\",\"Dintpkt\",\"tcprtt\",\"synack\",\"ackdat\").show(5)"
      ],
      "metadata": {
        "colab": {
          "base_uri": "https://localhost:8080/"
        },
        "id": "7LjgxwpZGqs8",
        "outputId": "9477c8c3-2a7f-4d98-f088-85ef069b4e2b"
      },
      "execution_count": null,
      "outputs": [
        {
          "output_type": "stream",
          "name": "stdout",
          "text": [
            "+-----------+-------+--------+----+----+-----+-----+---------+---------+-----+-----+-----+-----+-------------+-------------+-------+-------+-----------+-----------+---------+---------+---------+----------+------------+------------+------------+\n",
            "|        dur| sbytes|  dbytes|sttl|dttl|sloss|dloss|    Sload|    Dload|Spkts|Dpkts| swin| dwin|        stcpb|        dtcpb|smeansz|dmeansz|trans_depth|res_bdy_len|     Sjit|     Djit|  Sintpkt|   Dintpkt|      tcprtt|      synack|      ackdat|\n",
            "+-----------+-------+--------+----+----+-----+-----+---------+---------+-----+-----+-----+-----+-------------+-------------+-------+-------+-----------+-----------+---------+---------+---------+----------+------------+------------+------------+\n",
            "| 0.82546002| 7812.0| 16236.0|31.0|29.0| 30.0| 32.0| 75090.25|156111.73|122.0|126.0|255.0|255.0|2.751097753E9|2.748686736E9|   64.0|  129.0|        NaN|        NaN|445.25928| 474.9451|6.8190908|  6.599896|5.9700001E-4|4.6899999E-4|     1.28E-4|\n",
            "|   0.101815| 4238.0| 65628.0|31.0|29.0|  7.0| 30.0|328438.84|5087030.5| 72.0| 74.0|255.0|255.0| 9.61515433E8|3.225510659E9|   59.0|  887.0|        NaN|        NaN|      NaN|91.579567| 1.429493|  1.387192|      6.8E-4|5.4600002E-4|     1.34E-4|\n",
            "|0.044002999| 2750.0| 29104.0|31.0|29.0|  7.0| 17.0|488693.97|5181101.5| 44.0| 48.0|255.0|255.0|3.291096757E9|1.191410228E9|   63.0|  606.0|        NaN|        NaN|78.126968|62.206562| 1.014977|0.92583001|     0.00125|     4.85E-4|     7.65E-4|\n",
            "|  2.7908299|10476.0|395734.0|31.0|29.0| 16.0|143.0|29863.518|1130840.8|180.0|320.0|255.0|255.0|3.934392726E9|3.961690324E9|   58.0| 1237.0|        NaN|        NaN|2707.4927| 2018.976|15.589459| 8.7470121|6.8400003E-4|5.3199998E-4|1.5199999E-4|\n",
            "|  2.6335001|13350.0|548216.0|31.0|29.0| 21.0|197.0|40381.238|1661560.6|232.0|438.0|255.0|255.0|    1518931.0|  1.8267719E7|   58.0| 1252.0|        NaN|        NaN|718.33679|500.57288|11.399026| 6.0251832|     6.19E-4|     4.89E-4|      1.3E-4|\n",
            "+-----------+-------+--------+----+----+-----+-----+---------+---------+-----+-----+-----+-----+-------------+-------------+-------+-------+-----------+-----------+---------+---------+---------+----------+------------+------------+------------+\n",
            "only showing top 5 rows\n",
            "\n"
          ]
        }
      ]
    },
    {
      "cell_type": "code",
      "source": [
        "from pyspark.sql.functions import col,isnan,when,count\n",
        "UNSWNB15.select([count(when(isnan(c),c)).alias(c) for c in UNSWNB15.columns]).show()"
      ],
      "metadata": {
        "colab": {
          "base_uri": "https://localhost:8080/"
        },
        "id": "mednxtHeaYrE",
        "outputId": "132e8376-bfa3-4c6d-c75d-bba7c1ad5a01"
      },
      "execution_count": null,
      "outputs": [
        {
          "output_type": "stream",
          "name": "stdout",
          "text": [
            "+-----+-----+-----+------+-----+-----+----+------+------+-----+------+-------+-------+-------+-----+------+-----+------+-------+-------+-------+-------+-------+-------+-----------+-----------+------+------+-----+-----+-------+-------+-------+-------+-------+---------------+------------+----------------+------------+----------+----------+----------+----------+----------+----------------+----------------+--------------+----------+-----+\n",
            "|srcip|sport|dstip|dsport|proto|state| dur|sbytes|dbytes| sttl|  dttl|  sloss|  dloss|service|Sload| Dload|Spkts| Dpkts|   swin|   dwin|  stcpb|  dtcpb|smeansz|dmeansz|trans_depth|res_bdy_len|  Sjit|  Djit|Stime|Ltime|Sintpkt|Dintpkt| tcprtt| synack| ackdat|is_sm_ips_ports|ct_state_ttl|ct_flw_http_mthd|is_ftp_login|ct_ftp_cmd|ct_srv_src|ct_srv_dst|ct_dst_ltm|ct_src_ltm|ct_src_dport_ltm|ct_dst_sport_ltm|ct_dst_src_ltm|attack_cat|Label|\n",
            "+-----+-----+-----+------+-----+-----+----+------+------+-----+------+-------+-------+-------+-----+------+-----+------+-------+-------+-------+-------+-------+-------+-----------+-----------+------+------+-----+-----+-------+-------+-------+-------+-------+---------------+------------+----------------+------------+----------+----------+----------+----------+----------+----------------+----------------+--------------+----------+-----+\n",
            "|    0|    0|    0|     0|    0|    0|8308|     9|499901|10447|505769|1046943|1050130|      0| 5104|500366|    9|499901|1044685|1048108|1047558|1047883|      9| 499901|    2334617|    2352987|963103|899546|    0|    0|   1438| 500400|1054715|1054715|1055117|              0|           0|               0|           0|         0|         0|         0|         0|         0|               0|               0|             0|         0|    0|\n",
            "+-----+-----+-----+------+-----+-----+----+------+------+-----+------+-------+-------+-------+-----+------+-----+------+-------+-------+-------+-------+-------+-------+-----------+-----------+------+------+-----+-----+-------+-------+-------+-------+-------+---------------+------------+----------------+------------+----------+----------+----------+----------+----------+----------------+----------------+--------------+----------+-----+\n",
            "\n"
          ]
        }
      ]
    },
    {
      "cell_type": "code",
      "source": [
        "from pyspark.ml.feature import Imputer\n",
        "imputer = Imputer(inputCols=[\"dur\",\"sbytes\",\"dbytes\",\"sttl\",\"dttl\",\"sloss\",\"dloss\",\"Sload\",\"Dload\",\"Spkts\",\"Dpkts\",\"swin\",\"dwin\",\"stcpb\",\"dtcpb\",\"smeansz\",\"dmeansz\",\n",
        "                \"trans_depth\",\"res_bdy_len\",\"Sjit\",\"Djit\",\"Sintpkt\",\"Dintpkt\",\"tcprtt\",\"synack\",\"ackdat\"],outputCols=[\"dur\",\"sbytes\",\"dbytes\",\"sttl\",\"dttl\",\"sloss\",\"dloss\",\"Sload\",\"Dload\",\"Spkts\",\"Dpkts\",\"swin\",\"dwin\",\"stcpb\",\"dtcpb\",\"smeansz\",\"dmeansz\",\n",
        "                \"trans_depth\",\"res_bdy_len\",\"Sjit\",\"Djit\",\"Sintpkt\",\"Dintpkt\",\"tcprtt\",\"synack\",\"ackdat\"])\n",
        "model=imputer.fit(UNSWNB15)\n",
        "UNSWNB15=model.transform(UNSWNB15)\n"
      ],
      "metadata": {
        "id": "H1MasHgNbl8N"
      },
      "execution_count": null,
      "outputs": []
    },
    {
      "cell_type": "markdown",
      "metadata": {
        "id": "wHft1Jht1Qxl"
      },
      "source": [
        "\n",
        "# **Task 1 - Binary Classifier [20 marks]**\n",
        "\n",
        "---\n"
      ]
    },
    {
      "cell_type": "code",
      "metadata": {
        "id": "OcZfiIcq1Qxn",
        "colab": {
          "base_uri": "https://localhost:8080/"
        },
        "outputId": "ff9f47af-b955-4182-a186-b37016381156"
      },
      "source": [
        "# Machine Learning Technique, configuration, etc.:\n",
        "# Place your notes here. \n",
        "from pyspark.ml.feature import StringIndexer\n",
        "l_indexer = StringIndexer(inputCols=[\"proto\",\"state\",\"service\",\"dstip\",\"attack_cat\",\"srcip\"],outputCols=[\"protoIndex\",\"stateIndex\",\"serviceIndex\",\"dstipIndex\",\"attack_catIndex\",\"srcipIndex\"])\n",
        "BinaryUNSWNB15=l_indexer.fit(BinaryUNSWNB15).transform(BinaryUNSWNB15)\n",
        "BinaryUNSWNB15 = BinaryUNSWNB15.drop(\"proto\",\"state\",\"service\",\"dstip\",\"attack_cat\",\"srcip\")\n",
        "cols=BinaryUNSWNB15.columns\n",
        "cols.remove(\"Label\")\n",
        "from pyspark.ml.feature import VectorAssembler\n",
        "assembler = VectorAssembler(inputCols=cols, outputCol=\"features\")\n",
        "BinaryUNSWNB15=assembler.transform(BinaryUNSWNB15)\n",
        "BinaryUNSWNB15.select(\"features\").show(truncate=False)\n",
        "from pyspark.ml.feature import StandardScaler\n",
        "standardscaler=StandardScaler().setInputCol(\"features\").setOutputCol(\"Scaled_features\")\n",
        "BinaryUNSWNB15=standardscaler.fit(BinaryUNSWNB15).transform(BinaryUNSWNB15)\n",
        "BinaryUNSWNB15.select(\"features\",\"Scaled_features\").show(5)\n",
        "train,test = BinaryUNSWNB15.randomSplit([0.8,0.2],seed=12345)\n",
        "#imbalance in the dataset, observe the use of Where\n",
        "dataset_size=float(train.select(\"Label\").count())\n",
        "numPositives=train.select(\"Label\").where('Label == 1').count()\n",
        "per_ones=(float(numPositives)/float(dataset_size))*100\n",
        "numNegatives=float(dataset_size-numPositives)\n",
        "print('The number of ones are {}'.format(numPositives))\n",
        "print('Percentage of ones are {}'.format(per_ones))\n",
        "BalancingRatio= numNegatives/dataset_size\n",
        "print('BalancingRatio = {}'.format(BalancingRatio))\n",
        "# balance \n",
        "train=train.withColumn(\"classWeights\", when(train.Label == 1,BalancingRatio).otherwise(1-BalancingRatio))\n",
        "train.select(\"classWeights\").show(5)\n",
        "#Building a classification model using Logistic Regression (LR)\n",
        "from pyspark.ml.classification import LogisticRegression\n",
        "lr = LogisticRegression(labelCol=\"Label\", featuresCol=\"Scaled_features\",weightCol=\"classWeights\",maxIter=10)\n",
        "model=lr.fit(train)\n",
        "predict_train=model.transform(train)\n",
        "predict_test=model.transform(test)\n",
        "predict_test.select(\"Label\",\"prediction\").show(10)\n"
      ],
      "execution_count": null,
      "outputs": [
        {
          "output_type": "stream",
          "name": "stdout",
          "text": [
            "+-----------------------------------------------------------------------------------------------------------------------------------------------------------------------------------------------------------------------------------------------------------------------------------------------------------------------------------------------------------------------------------------------------------------------------------------------------------------------------+\n",
            "|features                                                                                                                                                                                                                                                                                                                                                                                                                                                                     |\n",
            "+-----------------------------------------------------------------------------------------------------------------------------------------------------------------------------------------------------------------------------------------------------------------------------------------------------------------------------------------------------------------------------------------------------------------------------------------------------------------------------+\n",
            "|[56716.0,143.0,0.82546002,7812.0,16236.0,31.0,29.0,30.0,32.0,75090.25,156111.73,122.0,126.0,255.0,255.0,2.751097753E9,2.748686736E9,64.0,129.0,1.0309328107175242,57697.795070467786,445.25928,474.9451,1.421970774E9,1.421970775E9,6.8190908,6.599896,5.9700001E-4,4.6899999E-4,1.28E-4,0.0,0.0,0.0,0.0,0.0,2.0,7.0,1.0,4.0,1.0,1.0,1.0,0.0,0.0,0.0,9.0,0.0,5.0]                                                                                                            |\n",
            "|[43467.0,49729.0,0.101815,4238.0,65628.0,31.0,29.0,7.0,30.0,328438.84,5087030.5,72.0,74.0,255.0,255.0,9.61515433E8,3.225510659E9,59.0,887.0,1.0309328107175242,57697.795070467786,2559.9043265773203,91.579567,1.421970775E9,1.421970775E9,1.429493,1.387192,6.8E-4,5.4600002E-4,1.34E-4,0.0,0.0,0.0,0.0,0.0,7.0,4.0,1.0,6.0,1.0,1.0,1.0,0.0,0.0,0.0,8.0,0.0,4.0]                                                                                                            |\n",
            "|[41289.0,9574.0,0.044002999,2750.0,29104.0,31.0,29.0,7.0,17.0,488693.97,5181101.5,44.0,48.0,255.0,255.0,3.291096757E9,1.191410228E9,63.0,606.0,1.0309328107175242,57697.795070467786,78.126968,62.206562,1.421970775E9,1.421970775E9,1.014977,0.92583001,0.00125,4.85E-4,7.65E-4,0.0,0.0,0.0,0.0,0.0,3.0,5.0,3.0,3.0,1.0,1.0,1.0,0.0,0.0,0.0,1.0,0.0,2.0]                                                                                                                    |\n",
            "|[43785.0,6881.0,2.7908299,10476.0,395734.0,31.0,29.0,16.0,143.0,29863.518,1130840.8,180.0,320.0,255.0,255.0,3.934392726E9,3.961690324E9,58.0,1237.0,1.0309328107175242,57697.795070467786,2707.4927,2018.976,1.421970772E9,1.421970775E9,15.589459,8.7470121,6.8400003E-4,5.3199998E-4,1.5199999E-4,0.0,0.0,0.0,0.0,0.0,11.0,4.0,3.0,2.0,1.0,1.0,1.0,0.0,0.0,0.0,5.0,0.0,6.0]                                                                                                |\n",
            "|[40691.0,6881.0,2.6335001,13350.0,548216.0,31.0,29.0,21.0,197.0,40381.238,1661560.6,232.0,438.0,255.0,255.0,1518931.0,1.8267719E7,58.0,1252.0,1.0309328107175242,57697.795070467786,718.33679,500.57288,1.421970773E9,1.421970775E9,11.399026,6.0251832,6.19E-4,4.89E-4,1.3E-4,0.0,0.0,0.0,0.0,0.0,16.0,7.0,7.0,1.0,1.0,1.0,1.0,0.0,0.0,0.0,6.0,0.0,8.0]                                                                                                                     |\n",
            "|[20393.0,5190.0,0.115048,1958.0,2308.0,31.0,29.0,6.0,6.0,129963.15,153814.06,22.0,24.0,255.0,255.0,3.646899201E9,3.651364285E9,89.0,96.0,1.0309328107175242,57697.795070467786,435.26627,417.08563,1.421970775E9,1.421970775E9,5.460381,4.976913,7.0999999E-4,5.73E-4,1.37E-4,0.0,0.0,0.0,0.0,0.0,2.0,6.0,1.0,4.0,1.0,1.0,1.0,0.0,0.0,0.0,0.0,0.0,5.0]                                                                                                                       |\n",
            "|[19792.0,53.0,0.003362,146.0,178.0,31.0,29.0,8.786600446410628,27.84459143305391,173706.13,211778.7,2.0,2.0,254.99579078748994,254.99710183014432,2.1477156945031304E9,2.1482945538164124E9,73.0,89.0,1.0309328107175242,57697.795070467786,2559.9043265773203,1130.6145032915917,1.421970775E9,1.421970775E9,0.011,0.0060000001,0.010571341815652422,0.005623239916899482,0.004949441724072035,0.0,0.0,0.0,0.0,0.0,3.0,2.0,3.0,3.0,3.0,1.0,1.0,1.0,1.0,1.0,5.0,0.0,9.0]     |\n",
            "|[14382.0,3354.0,0.45305201,424.0,8824.0,31.0,29.0,1.0,4.0,6551.124,142835.7,8.0,12.0,255.0,255.0,2.206905053E9,3.307670308E9,53.0,735.0,1.0309328107175242,57697.795070467786,3906.7949,3074.6694,1.421970775E9,1.421970775E9,64.671288,41.134998,6.8E-4,5.5900001E-4,1.21E-4,0.0,0.0,0.0,0.0,0.0,4.0,6.0,7.0,4.0,1.0,1.0,2.0,0.0,0.0,3.0,6.0,0.0,5.0]                                                                                                                       |\n",
            "|[37074.0,53.0,0.001088,146.0,178.0,31.0,29.0,8.786600446410628,27.84459143305391,536764.69,654411.75,2.0,2.0,254.99579078748994,254.99710183014432,2.1477156945031304E9,2.1482945538164124E9,73.0,89.0,1.0309328107175242,57697.795070467786,2559.9043265773203,1130.6145032915917,1.421970775E9,1.421970775E9,0.001,0.0089999996,0.010571341815652422,0.005623239916899482,0.004949441724072035,0.0,0.0,0.0,0.0,0.0,2.0,5.0,3.0,2.0,1.0,1.0,1.0,1.0,1.0,1.0,1.0,0.0,6.0]    |\n",
            "|[12569.0,53.0,9.6899999E-4,146.0,178.0,31.0,29.0,8.786600446410628,27.84459143305391,602683.19,734778.13,2.0,2.0,254.99579078748994,254.99710183014432,2.1477156945031304E9,2.1482945538164124E9,73.0,89.0,1.0309328107175242,57697.795070467786,2559.9043265773203,1130.6145032915917,1.421970775E9,1.421970775E9,0.0099999998,0.003,0.010571341815652422,0.005623239916899482,0.004949441724072035,0.0,0.0,0.0,0.0,0.0,3.0,1.0,2.0,3.0,3.0,1.0,1.0,1.0,1.0,1.0,4.0,0.0,9.0]|\n",
            "|[12792.0,53.0,0.0010629999,146.0,178.0,31.0,29.0,8.786600446410628,27.84459143305391,549388.56,669802.5,2.0,2.0,254.99579078748994,254.99710183014432,2.1477156945031304E9,2.1482945538164124E9,73.0,89.0,1.0309328107175242,57697.795070467786,2559.9043265773203,1130.6145032915917,1.42197078E9,1.42197078E9,0.0020000001,0.003,0.010571341815652422,0.005623239916899482,0.004949441724072035,0.0,0.0,0.0,0.0,0.0,5.0,3.0,2.0,4.0,3.0,1.0,1.0,1.0,1.0,1.0,7.0,0.0,1.0]   |\n",
            "|[63414.0,10330.0,0.26501101,8928.0,320.0,31.0,29.0,4.0,1.0,250283.94,8060.0425,14.0,6.0,255.0,255.0,2.386904726E9,3.699988372E9,638.0,53.0,1.0309328107175242,57697.795070467786,1725.2916,71.464249,1.421970775E9,1.421970776E9,20.385462,52.644802,7.7500002E-4,6.3299999E-4,1.42E-4,0.0,0.0,0.0,0.0,0.0,3.0,6.0,6.0,5.0,1.0,1.0,2.0,0.0,0.0,3.0,6.0,0.0,4.0]                                                                                                              |\n",
            "|[33555.0,6881.0,0.51712799,1540.0,1644.0,31.0,29.0,4.0,4.0,22338.764,24025.0,16.0,18.0,255.0,255.0,1.741520309E9,3.943579644E9,96.0,91.0,1.0309328107175242,57697.795070467786,2036.1301,51.91766,1.421970776E9,1.421970776E9,34.433331,30.388353,6.5399997E-4,5.2200002E-4,1.32E-4,0.0,0.0,0.0,0.0,0.0,4.0,6.0,5.0,7.0,4.0,1.0,4.0,0.0,0.0,0.0,0.0,0.0,1.0]                                                                                                                 |\n",
            "|[10867.0,111.0,0.0053389999,568.0,312.0,31.0,29.0,8.786600446410628,27.84459143305391,638321.81,350627.47,4.0,4.0,254.99579078748994,254.99710183014432,2.1477156945031304E9,2.1482945538164124E9,142.0,78.0,1.0309328107175242,57697.795070467786,1.7430201,1.757632,1.421970776E9,1.421970776E9,1.24,1.252333,0.010571341815652422,0.005623239916899482,0.004949441724072035,0.0,0.0,0.0,0.0,0.0,16.0,7.0,5.0,5.0,1.0,1.0,4.0,1.0,1.0,0.0,9.0,0.0,8.0]                     |\n",
            "|[12411.0,1715.0,0.001739,512.0,304.0,31.0,29.0,8.786600446410628,27.84459143305391,1766532.5,1048878.6,4.0,4.0,254.99579078748994,254.99710183014432,2.1477156945031304E9,2.1482945538164124E9,128.0,76.0,1.0309328107175242,57697.795070467786,0.63026798,0.318434,1.421970776E9,1.421970776E9,0.44966701,0.227667,0.010571341815652422,0.005623239916899482,0.004949441724072035,0.0,0.0,0.0,0.0,0.0,16.0,7.0,5.0,5.0,1.0,1.0,4.0,1.0,1.0,0.0,9.0,0.0,8.0]                 |\n",
            "|[46725.0,53.0,0.001018,146.0,178.0,31.0,29.0,8.786600446410628,27.84459143305391,573673.88,699410.63,2.0,2.0,254.99579078748994,254.99710183014432,2.1477156945031304E9,2.1482945538164124E9,73.0,89.0,1.0309328107175242,57697.795070467786,2559.9043265773203,1130.6145032915917,1.421970776E9,1.421970776E9,0.011,0.011,0.010571341815652422,0.005623239916899482,0.004949441724072035,0.0,0.0,0.0,0.0,0.0,2.0,5.0,3.0,5.0,1.0,1.0,1.0,1.0,1.0,1.0,1.0,0.0,8.0]           |\n",
            "|[51562.0,53.0,0.001044,146.0,178.0,31.0,29.0,8.786600446410628,27.84459143305391,559386.94,681992.31,2.0,2.0,254.99579078748994,254.99710183014432,2.1477156945031304E9,2.1482945538164124E9,73.0,89.0,1.0309328107175242,57697.795070467786,2559.9043265773203,1130.6145032915917,1.421970776E9,1.421970776E9,0.011,0.003,0.010571341815652422,0.005623239916899482,0.004949441724072035,0.0,0.0,0.0,0.0,0.0,2.0,3.0,5.0,7.0,2.0,1.0,3.0,1.0,1.0,1.0,2.0,0.0,1.0]           |\n",
            "|[48838.0,53.0,9.8699995E-4,146.0,178.0,31.0,29.0,8.786600446410628,27.84459143305391,591692.0,721377.94,2.0,2.0,254.99579078748994,254.99710183014432,2.1477156945031304E9,2.1482945538164124E9,73.0,89.0,1.0309328107175242,57697.795070467786,2559.9043265773203,1130.6145032915917,1.421970776E9,1.421970776E9,0.0080000004,0.003,0.010571341815652422,0.005623239916899482,0.004949441724072035,0.0,0.0,0.0,0.0,0.0,2.0,5.0,3.0,3.0,1.0,1.0,1.0,1.0,1.0,1.0,1.0,0.0,5.0] |\n",
            "|[16907.0,21.0,2.2547121,2934.0,3740.0,31.0,29.0,11.0,15.0,10211.503,13025.166,52.0,54.0,255.0,255.0,2.41515551E8,2.58413568E9,56.0,69.0,1.0309328107175242,57697.795070467786,3141.3708,99.93412,1.421970773E9,1.421970776E9,44.203648,42.531734,6.6100003E-4,5.2499998E-4,1.36E-4,0.0,0.0,0.0,0.0,0.0,1.0,3.0,6.0,5.0,1.0,1.0,2.0,0.0,0.0,5.0,6.0,0.0,4.0]                                                                                                                  |\n",
            "|[1915.0,32945.0,0.051220998,2854.0,29104.0,31.0,29.0,7.0,17.0,436071.16,4450987.0,46.0,48.0,255.0,255.0,1.921515932E9,1.974066994E9,62.0,606.0,1.0309328107175242,57697.795070467786,78.226654,76.387978,1.421970776E9,1.421970776E9,1.1294219,1.0781699,8.1E-4,5.43E-4,2.67E-4,0.0,0.0,0.0,0.0,0.0,7.0,2.0,5.0,5.0,1.0,1.0,2.0,0.0,0.0,0.0,2.0,0.0,4.0]                                                                                                                     |\n",
            "+-----------------------------------------------------------------------------------------------------------------------------------------------------------------------------------------------------------------------------------------------------------------------------------------------------------------------------------------------------------------------------------------------------------------------------------------------------------------------------+\n",
            "only showing top 20 rows\n",
            "\n",
            "+--------------------+--------------------+\n",
            "|            features|     Scaled_features|\n",
            "+--------------------+--------------------+\n",
            "|[56716.0,143.0,0....|[2.77459021036591...|\n",
            "|[43467.0,49729.0,...|[2.12643897090724...|\n",
            "|[41289.0,9574.0,0...|[2.01988954079621...|\n",
            "|[43785.0,6881.0,2...|[2.14199577475265...|\n",
            "|[40691.0,6881.0,2...|[1.99063492224415...|\n",
            "+--------------------+--------------------+\n",
            "only showing top 5 rows\n",
            "\n",
            "The number of ones are 257247\n",
            "Percentage of ones are 12.658117601557667\n",
            "BalancingRatio = 0.8734188239844233\n",
            "+------------------+\n",
            "|      classWeights|\n",
            "+------------------+\n",
            "|0.8734188239844233|\n",
            "|0.8734188239844233|\n",
            "|0.8734188239844233|\n",
            "|0.8734188239844233|\n",
            "|0.8734188239844233|\n",
            "+------------------+\n",
            "only showing top 5 rows\n",
            "\n",
            "+-----+----------+\n",
            "|Label|prediction|\n",
            "+-----+----------+\n",
            "|    1|       1.0|\n",
            "|    1|       1.0|\n",
            "|    1|       1.0|\n",
            "|    1|       1.0|\n",
            "|    1|       1.0|\n",
            "|    1|       1.0|\n",
            "|    1|       1.0|\n",
            "|    1|       1.0|\n",
            "|    1|       1.0|\n",
            "|    1|       1.0|\n",
            "+-----+----------+\n",
            "only showing top 10 rows\n",
            "\n"
          ]
        }
      ]
    },
    {
      "cell_type": "markdown",
      "metadata": {
        "id": "IRGHM3rOsKvU"
      },
      "source": [
        "\n",
        "# **Task 2 - Multi Classifier [25 marks]**\n",
        "\n",
        "---\n"
      ]
    },
    {
      "cell_type": "code",
      "metadata": {
        "id": "6oAJuyTBsRO-",
        "colab": {
          "base_uri": "https://localhost:8080/"
        },
        "outputId": "61cd6b13-ceb2-4a0b-83f2-b5187a6caad2"
      },
      "source": [
        "# Machine Learning Technique, configuration, etc.:\n",
        "# Place your notes here. \n",
        "UNSWNB15.select('attack_cat').distinct().show(10)\n",
        "UNSWNB15.count()\n",
        "multiClassUNSWNB15 = UNSWNB15.select('*')\n",
        "from pyspark.ml.feature import StringIndexer\n",
        "l_indexer = StringIndexer(inputCols=[\"proto\",\"state\",\"service\",\"dstip\",\"srcip\"],outputCols=[\"protoIndex\",\"stateIndex\",\"serviceIndex\",\"dstipIndex\",\"srcipIndex\"])\n",
        "multiClassUNSWNB15=l_indexer.fit(multiClassUNSWNB15).transform(multiClassUNSWNB15)\n",
        "multiClassUNSWNB15 = multiClassUNSWNB15.drop(\"proto\",\"state\",\"service\",\"dstip\",\"srcip\")\n",
        "cols=multiClassUNSWNB15.columns\n",
        "cols.remove(\"attack_cat\")\n",
        "from pyspark.ml.feature import VectorAssembler\n",
        "assembler = VectorAssembler(inputCols=cols, outputCol=\"features\")\n",
        "multiClassUNSWNB15=assembler.transform(multiClassUNSWNB15)\n",
        "multiClassUNSWNB15.select(\"features\").show(truncate=False)\n",
        "#Let’s remove unnecessary columns:\n",
        "multiClassUNSWNB15 = multiClassUNSWNB15.drop('sport','dsport','dur','sbytes','dbytes','sttl','dttl','sloss','dloss','Sload','Dload','Spkts','Dpkts','swin','dwin','stcpb','dtcpb','smeansz','dmeansz','trans_depth','res_bdy_len','Sjit','Djit','Stime','Ltime','Sintpkt','Dintpkt','tcprtt','synack','ackdat','is_sm_ips_ports','ct_state_ttl','ct_flw_http_mthd','is_ftp_login','ct_ftp_cmd','ct_srv_src','ct_srv_dst','ct_dst_ltm','ct_src_ltm','ct_src_dport_ltm','ct_dst_sport_ltm','ct_dst_src_ltm','Label','protoIndex','stateIndex','serviceIndex','dstipIndex','srcipIndex')\n",
        "multiClassUNSWNB15.show(3)\n",
        "from pyspark.ml.feature import StringIndexer\n",
        "l_indexer = StringIndexer(inputCol=\"attack_cat\", outputCol=\"attack_catIndex\")\n",
        "multiClassUNSWNB15 = l_indexer.fit(multiClassUNSWNB15).transform(multiClassUNSWNB15)\n",
        "multiClassUNSWNB15.select('attack_cat','attack_catIndex').distinct().show(3)\n",
        "from pyspark.ml.feature import StandardScaler\n",
        "standardscaler=StandardScaler().setInputCol(\"features\").setOutputCol(\"Scaled_features\")\n",
        "multiClassUNSWNB15=standardscaler.fit(multiClassUNSWNB15).transform(multiClassUNSWNB15)\n",
        "multiClassUNSWNB15.select(\"features\",\"Scaled_features\").show(5)\n",
        "(trainingData, testData) = multiClassUNSWNB15.randomSplit([0.7, 0.3])\n",
        "from pyspark.ml.classification import DecisionTreeClassifier\n",
        "from pyspark.ml.evaluation import MulticlassClassificationEvaluator\n",
        "dt = DecisionTreeClassifier(labelCol=\"attack_catIndex\", featuresCol=\"Scaled_features\",impurity='entropy', maxDepth=4,seed=1234)\n",
        "multiClassModel = dt.fit(trainingData)\n",
        "predictions = multiClassModel.transform(testData)"
      ],
      "execution_count": null,
      "outputs": [
        {
          "output_type": "stream",
          "name": "stdout",
          "text": [
            "+---------------+\n",
            "|     attack_cat|\n",
            "+---------------+\n",
            "|          Worms|\n",
            "|           null|\n",
            "|       Analysis|\n",
            "|     Shellcode |\n",
            "|            DoS|\n",
            "|Reconnaissance |\n",
            "|       Backdoor|\n",
            "|       Fuzzers |\n",
            "|       Exploits|\n",
            "|        Generic|\n",
            "+---------------+\n",
            "only showing top 10 rows\n",
            "\n",
            "+-----------------------------------------------------------------------------------------------------------------------------------------------------------------------------------------------------------------------------------------------------------------------------------------------------------------------------------------------------------------------------------------------------------------------------------------------------------------------------+\n",
            "|features                                                                                                                                                                                                                                                                                                                                                                                                                                                                     |\n",
            "+-----------------------------------------------------------------------------------------------------------------------------------------------------------------------------------------------------------------------------------------------------------------------------------------------------------------------------------------------------------------------------------------------------------------------------------------------------------------------------+\n",
            "|[56716.0,143.0,0.82546002,7812.0,16236.0,31.0,29.0,30.0,32.0,75090.25,156111.73,122.0,126.0,255.0,255.0,2.751097753E9,2.748686736E9,64.0,129.0,1.0309328107175242,57697.795070467786,445.25928,474.9451,1.421970774E9,1.421970775E9,6.8190908,6.599896,5.9700001E-4,4.6899999E-4,1.28E-4,0.0,0.0,0.0,0.0,0.0,2.0,7.0,1.0,4.0,1.0,1.0,1.0,0.0,0.0,0.0,0.0,9.0,5.0]                                                                                                            |\n",
            "|[43467.0,49729.0,0.101815,4238.0,65628.0,31.0,29.0,7.0,30.0,328438.84,5087030.5,72.0,74.0,255.0,255.0,9.61515433E8,3.225510659E9,59.0,887.0,1.0309328107175242,57697.795070467786,2559.9043265773203,91.579567,1.421970775E9,1.421970775E9,1.429493,1.387192,6.8E-4,5.4600002E-4,1.34E-4,0.0,0.0,0.0,0.0,0.0,7.0,4.0,1.0,6.0,1.0,1.0,1.0,0.0,0.0,0.0,0.0,8.0,4.0]                                                                                                            |\n",
            "|[41289.0,9574.0,0.044002999,2750.0,29104.0,31.0,29.0,7.0,17.0,488693.97,5181101.5,44.0,48.0,255.0,255.0,3.291096757E9,1.191410228E9,63.0,606.0,1.0309328107175242,57697.795070467786,78.126968,62.206562,1.421970775E9,1.421970775E9,1.014977,0.92583001,0.00125,4.85E-4,7.65E-4,0.0,0.0,0.0,0.0,0.0,3.0,5.0,3.0,3.0,1.0,1.0,1.0,0.0,0.0,0.0,0.0,1.0,2.0]                                                                                                                    |\n",
            "|[43785.0,6881.0,2.7908299,10476.0,395734.0,31.0,29.0,16.0,143.0,29863.518,1130840.8,180.0,320.0,255.0,255.0,3.934392726E9,3.961690324E9,58.0,1237.0,1.0309328107175242,57697.795070467786,2707.4927,2018.976,1.421970772E9,1.421970775E9,15.589459,8.7470121,6.8400003E-4,5.3199998E-4,1.5199999E-4,0.0,0.0,0.0,0.0,0.0,11.0,4.0,3.0,2.0,1.0,1.0,1.0,0.0,0.0,0.0,0.0,5.0,6.0]                                                                                                |\n",
            "|[40691.0,6881.0,2.6335001,13350.0,548216.0,31.0,29.0,21.0,197.0,40381.238,1661560.6,232.0,438.0,255.0,255.0,1518931.0,1.8267719E7,58.0,1252.0,1.0309328107175242,57697.795070467786,718.33679,500.57288,1.421970773E9,1.421970775E9,11.399026,6.0251832,6.19E-4,4.89E-4,1.3E-4,0.0,0.0,0.0,0.0,0.0,16.0,7.0,7.0,1.0,1.0,1.0,1.0,0.0,0.0,0.0,0.0,6.0,8.0]                                                                                                                     |\n",
            "|[20393.0,5190.0,0.115048,1958.0,2308.0,31.0,29.0,6.0,6.0,129963.15,153814.06,22.0,24.0,255.0,255.0,3.646899201E9,3.651364285E9,89.0,96.0,1.0309328107175242,57697.795070467786,435.26627,417.08563,1.421970775E9,1.421970775E9,5.460381,4.976913,7.0999999E-4,5.73E-4,1.37E-4,0.0,0.0,0.0,0.0,0.0,2.0,6.0,1.0,4.0,1.0,1.0,1.0,0.0,0.0,0.0,0.0,0.0,5.0]                                                                                                                       |\n",
            "|[19792.0,53.0,0.003362,146.0,178.0,31.0,29.0,8.786600446410628,27.84459143305391,173706.13,211778.7,2.0,2.0,254.99579078748994,254.99710183014432,2.1477156945031304E9,2.1482945538164124E9,73.0,89.0,1.0309328107175242,57697.795070467786,2559.9043265773203,1130.6145032915917,1.421970775E9,1.421970775E9,0.011,0.0060000001,0.010571341815652422,0.005623239916899482,0.004949441724072035,0.0,0.0,0.0,0.0,0.0,3.0,2.0,3.0,3.0,3.0,1.0,1.0,0.0,1.0,1.0,1.0,5.0,9.0]     |\n",
            "|[14382.0,3354.0,0.45305201,424.0,8824.0,31.0,29.0,1.0,4.0,6551.124,142835.7,8.0,12.0,255.0,255.0,2.206905053E9,3.307670308E9,53.0,735.0,1.0309328107175242,57697.795070467786,3906.7949,3074.6694,1.421970775E9,1.421970775E9,64.671288,41.134998,6.8E-4,5.5900001E-4,1.21E-4,0.0,0.0,0.0,0.0,0.0,4.0,6.0,7.0,4.0,1.0,1.0,2.0,0.0,0.0,0.0,3.0,6.0,5.0]                                                                                                                       |\n",
            "|[37074.0,53.0,0.001088,146.0,178.0,31.0,29.0,8.786600446410628,27.84459143305391,536764.69,654411.75,2.0,2.0,254.99579078748994,254.99710183014432,2.1477156945031304E9,2.1482945538164124E9,73.0,89.0,1.0309328107175242,57697.795070467786,2559.9043265773203,1130.6145032915917,1.421970775E9,1.421970775E9,0.001,0.0089999996,0.010571341815652422,0.005623239916899482,0.004949441724072035,0.0,0.0,0.0,0.0,0.0,2.0,5.0,3.0,2.0,1.0,1.0,1.0,0.0,1.0,1.0,1.0,1.0,6.0]    |\n",
            "|[12569.0,53.0,9.6899999E-4,146.0,178.0,31.0,29.0,8.786600446410628,27.84459143305391,602683.19,734778.13,2.0,2.0,254.99579078748994,254.99710183014432,2.1477156945031304E9,2.1482945538164124E9,73.0,89.0,1.0309328107175242,57697.795070467786,2559.9043265773203,1130.6145032915917,1.421970775E9,1.421970775E9,0.0099999998,0.003,0.010571341815652422,0.005623239916899482,0.004949441724072035,0.0,0.0,0.0,0.0,0.0,3.0,1.0,2.0,3.0,3.0,1.0,1.0,0.0,1.0,1.0,1.0,4.0,9.0]|\n",
            "|[12792.0,53.0,0.0010629999,146.0,178.0,31.0,29.0,8.786600446410628,27.84459143305391,549388.56,669802.5,2.0,2.0,254.99579078748994,254.99710183014432,2.1477156945031304E9,2.1482945538164124E9,73.0,89.0,1.0309328107175242,57697.795070467786,2559.9043265773203,1130.6145032915917,1.42197078E9,1.42197078E9,0.0020000001,0.003,0.010571341815652422,0.005623239916899482,0.004949441724072035,0.0,0.0,0.0,0.0,0.0,5.0,3.0,2.0,4.0,3.0,1.0,1.0,0.0,1.0,1.0,1.0,7.0,1.0]   |\n",
            "|[63414.0,10330.0,0.26501101,8928.0,320.0,31.0,29.0,4.0,1.0,250283.94,8060.0425,14.0,6.0,255.0,255.0,2.386904726E9,3.699988372E9,638.0,53.0,1.0309328107175242,57697.795070467786,1725.2916,71.464249,1.421970775E9,1.421970776E9,20.385462,52.644802,7.7500002E-4,6.3299999E-4,1.42E-4,0.0,0.0,0.0,0.0,0.0,3.0,6.0,6.0,5.0,1.0,1.0,2.0,0.0,0.0,0.0,3.0,6.0,4.0]                                                                                                              |\n",
            "|[33555.0,6881.0,0.51712799,1540.0,1644.0,31.0,29.0,4.0,4.0,22338.764,24025.0,16.0,18.0,255.0,255.0,1.741520309E9,3.943579644E9,96.0,91.0,1.0309328107175242,57697.795070467786,2036.1301,51.91766,1.421970776E9,1.421970776E9,34.433331,30.388353,6.5399997E-4,5.2200002E-4,1.32E-4,0.0,0.0,0.0,0.0,0.0,4.0,6.0,5.0,7.0,4.0,1.0,4.0,0.0,0.0,0.0,0.0,0.0,1.0]                                                                                                                 |\n",
            "|[10867.0,111.0,0.0053389999,568.0,312.0,31.0,29.0,8.786600446410628,27.84459143305391,638321.81,350627.47,4.0,4.0,254.99579078748994,254.99710183014432,2.1477156945031304E9,2.1482945538164124E9,142.0,78.0,1.0309328107175242,57697.795070467786,1.7430201,1.757632,1.421970776E9,1.421970776E9,1.24,1.252333,0.010571341815652422,0.005623239916899482,0.004949441724072035,0.0,0.0,0.0,0.0,0.0,16.0,7.0,5.0,5.0,1.0,1.0,4.0,0.0,1.0,1.0,0.0,9.0,8.0]                     |\n",
            "|[12411.0,1715.0,0.001739,512.0,304.0,31.0,29.0,8.786600446410628,27.84459143305391,1766532.5,1048878.6,4.0,4.0,254.99579078748994,254.99710183014432,2.1477156945031304E9,2.1482945538164124E9,128.0,76.0,1.0309328107175242,57697.795070467786,0.63026798,0.318434,1.421970776E9,1.421970776E9,0.44966701,0.227667,0.010571341815652422,0.005623239916899482,0.004949441724072035,0.0,0.0,0.0,0.0,0.0,16.0,7.0,5.0,5.0,1.0,1.0,4.0,0.0,1.0,1.0,0.0,9.0,8.0]                 |\n",
            "|[46725.0,53.0,0.001018,146.0,178.0,31.0,29.0,8.786600446410628,27.84459143305391,573673.88,699410.63,2.0,2.0,254.99579078748994,254.99710183014432,2.1477156945031304E9,2.1482945538164124E9,73.0,89.0,1.0309328107175242,57697.795070467786,2559.9043265773203,1130.6145032915917,1.421970776E9,1.421970776E9,0.011,0.011,0.010571341815652422,0.005623239916899482,0.004949441724072035,0.0,0.0,0.0,0.0,0.0,2.0,5.0,3.0,5.0,1.0,1.0,1.0,0.0,1.0,1.0,1.0,1.0,8.0]           |\n",
            "|[51562.0,53.0,0.001044,146.0,178.0,31.0,29.0,8.786600446410628,27.84459143305391,559386.94,681992.31,2.0,2.0,254.99579078748994,254.99710183014432,2.1477156945031304E9,2.1482945538164124E9,73.0,89.0,1.0309328107175242,57697.795070467786,2559.9043265773203,1130.6145032915917,1.421970776E9,1.421970776E9,0.011,0.003,0.010571341815652422,0.005623239916899482,0.004949441724072035,0.0,0.0,0.0,0.0,0.0,2.0,3.0,5.0,7.0,2.0,1.0,3.0,0.0,1.0,1.0,1.0,2.0,1.0]           |\n",
            "|[48838.0,53.0,9.8699995E-4,146.0,178.0,31.0,29.0,8.786600446410628,27.84459143305391,591692.0,721377.94,2.0,2.0,254.99579078748994,254.99710183014432,2.1477156945031304E9,2.1482945538164124E9,73.0,89.0,1.0309328107175242,57697.795070467786,2559.9043265773203,1130.6145032915917,1.421970776E9,1.421970776E9,0.0080000004,0.003,0.010571341815652422,0.005623239916899482,0.004949441724072035,0.0,0.0,0.0,0.0,0.0,2.0,5.0,3.0,3.0,1.0,1.0,1.0,0.0,1.0,1.0,1.0,1.0,5.0] |\n",
            "|[16907.0,21.0,2.2547121,2934.0,3740.0,31.0,29.0,11.0,15.0,10211.503,13025.166,52.0,54.0,255.0,255.0,2.41515551E8,2.58413568E9,56.0,69.0,1.0309328107175242,57697.795070467786,3141.3708,99.93412,1.421970773E9,1.421970776E9,44.203648,42.531734,6.6100003E-4,5.2499998E-4,1.36E-4,0.0,0.0,0.0,0.0,0.0,1.0,3.0,6.0,5.0,1.0,1.0,2.0,0.0,0.0,0.0,5.0,6.0,4.0]                                                                                                                  |\n",
            "|[1915.0,32945.0,0.051220998,2854.0,29104.0,31.0,29.0,7.0,17.0,436071.16,4450987.0,46.0,48.0,255.0,255.0,1.921515932E9,1.974066994E9,62.0,606.0,1.0309328107175242,57697.795070467786,78.226654,76.387978,1.421970776E9,1.421970776E9,1.1294219,1.0781699,8.1E-4,5.43E-4,2.67E-4,0.0,0.0,0.0,0.0,0.0,7.0,2.0,5.0,5.0,1.0,1.0,2.0,0.0,0.0,0.0,0.0,2.0,4.0]                                                                                                                     |\n",
            "+-----------------------------------------------------------------------------------------------------------------------------------------------------------------------------------------------------------------------------------------------------------------------------------------------------------------------------------------------------------------------------------------------------------------------------------------------------------------------------+\n",
            "only showing top 20 rows\n",
            "\n",
            "+----------+--------------------+\n",
            "|attack_cat|            features|\n",
            "+----------+--------------------+\n",
            "|      null|[56716.0,143.0,0....|\n",
            "|      null|[43467.0,49729.0,...|\n",
            "|      null|[41289.0,9574.0,0...|\n",
            "+----------+--------------------+\n",
            "only showing top 3 rows\n",
            "\n",
            "+----------+---------------+\n",
            "|attack_cat|attack_catIndex|\n",
            "+----------+---------------+\n",
            "|Shellcode |           10.0|\n",
            "|       DoS|            4.0|\n",
            "|     Worms|           13.0|\n",
            "+----------+---------------+\n",
            "only showing top 3 rows\n",
            "\n",
            "+--------------------+--------------------+\n",
            "|            features|     Scaled_features|\n",
            "+--------------------+--------------------+\n",
            "|[56716.0,143.0,0....|[2.77459021036591...|\n",
            "|[43467.0,49729.0,...|[2.12643897090724...|\n",
            "|[41289.0,9574.0,0...|[2.01988954079621...|\n",
            "|[43785.0,6881.0,2...|[2.14199577475265...|\n",
            "|[40691.0,6881.0,2...|[1.99063492224415...|\n",
            "+--------------------+--------------------+\n",
            "only showing top 5 rows\n",
            "\n"
          ]
        }
      ]
    },
    {
      "cell_type": "code",
      "source": [
        "predictions.select(\"attack_catIndex\",\"prediction\").show(10)"
      ],
      "metadata": {
        "colab": {
          "base_uri": "https://localhost:8080/"
        },
        "id": "0wKAP4vbYgQK",
        "outputId": "54a1753f-4ddc-421a-9fc9-3cc9d8e34d13"
      },
      "execution_count": null,
      "outputs": [
        {
          "output_type": "stream",
          "name": "stdout",
          "text": [
            "+---------------+----------+\n",
            "|attack_catIndex|prediction|\n",
            "+---------------+----------+\n",
            "|            0.0|       0.0|\n",
            "|            0.0|       0.0|\n",
            "|            0.0|       0.0|\n",
            "|            0.0|       0.0|\n",
            "|            0.0|       0.0|\n",
            "|            0.0|       0.0|\n",
            "|            0.0|       0.0|\n",
            "|            0.0|       0.0|\n",
            "|            0.0|       0.0|\n",
            "|            0.0|       0.0|\n",
            "+---------------+----------+\n",
            "only showing top 10 rows\n",
            "\n"
          ]
        }
      ]
    },
    {
      "cell_type": "markdown",
      "metadata": {
        "id": "7B_jAqyMsSsl"
      },
      "source": [
        "\n",
        "# **Task 3 - Performance Measurements [15 marks]**\n",
        "\n",
        "---\n"
      ]
    },
    {
      "cell_type": "code",
      "metadata": {
        "id": "tV__ckDIsTEF",
        "colab": {
          "base_uri": "https://localhost:8080/",
          "height": 1000
        },
        "outputId": "d315c5c2-9a4a-46b4-b7a8-b1ec1d1a4677"
      },
      "source": [
        "# Performance Measurements for Binary Classifier\n",
        "#Evaluating the model\n",
        "from pyspark.ml.evaluation import BinaryClassificationEvaluator\n",
        "\n",
        "evaluator=BinaryClassificationEvaluator(rawPredictionCol='prediction',labelCol=\"Label\")\n",
        "# We have only two choices: area under ROC and PR curves :-(\n",
        "auroc = evaluator.evaluate(predict_test, {evaluator.metricName: \"areaUnderROC\"})\n",
        "\n",
        "print(\"Area under ROC Curve: {:.4f}\".format(auroc))\n",
        "\n",
        "predict_test.select(\"Label\",\"prediction\",\"probability\").show(15)\n",
        "\n",
        "print(model.summary)\n",
        "import matplotlib.pyplot as plt\n",
        "pr = model.summary.pr.toPandas()\n",
        "plt.plot(pr['recall'],pr['precision'])\n",
        "plt.ylabel('Precision')\n",
        "plt.xlabel('Recall')\n",
        "plt.show()\n",
        "print(\"Model Accuracy\",model.summary.accuracy)\n",
        "print(\"FP rate\",model.summary.falsePositiveRateByLabel)\n",
        "print(\"TR rate\",model.summary.truePositiveRateByLabel)\n",
        "print(\"Total Actual Positive i.e. attack\",predict_test.select(\"Label\").where('Label == 1.0').count())\n",
        "print(\"Total Actual Negative,i.e. normal\",predict_test.select(\"Label\").where('Label == 0.0').count())\n",
        "pr = predict_test.toPandas()\n",
        "TruePositive =0\n",
        "FalsePositive=0\n",
        "TrueNegative=0\n",
        "FalseNegative=0\n",
        "Postive=1.0\n",
        "Negative=0.0\n",
        "pos=0\n",
        "Neg=0\n",
        "\n",
        "print(\"Total\",len(pr[\"Label\"]))\n",
        "for lbl in range(len(pr[\"Label\"])):\n",
        "  if  pr[\"prediction\"][lbl]==Postive:\n",
        "    pos+=1\n",
        "    if pr[\"prediction\"][lbl]==pr[\"Label\"][lbl]:\n",
        "      TruePositive+=1\n",
        "    else:\n",
        "      FalsePositive+=1\n",
        "  if  pr[\"prediction\"][lbl]==Negative:\n",
        "    Neg+=1\n",
        "    if pr[\"prediction\"][lbl]==pr[\"Label\"][lbl]:\n",
        "      TrueNegative+=1\n",
        "    else:\n",
        "      FalseNegative+=1\n",
        "print(\"Total Positive & Negative predicted,  attack: \",pos,\",normal\",Neg)\n",
        "print(\"TruePostive\",TruePositive,\"FalsePostive\",FalsePositive)     \n",
        "print(\"TrueNegative\",TrueNegative,\"FalseNegative\",FalseNegative)  \n",
        "\n",
        "# Performance Measurements for Multi Classifier\n",
        "evaluator = MulticlassClassificationEvaluator(\n",
        "labelCol=\"attack_catIndex\", predictionCol=\"prediction\",\n",
        "metricName=\"accuracy\")\n",
        "accuracy = evaluator.evaluate(predictions)\n",
        "print(\"Test accuracy =  \" , accuracy)\n",
        "print(multiClassModel.toDebugString)"
      ],
      "execution_count": null,
      "outputs": [
        {
          "output_type": "stream",
          "name": "stdout",
          "text": [
            "Area under ROC Curve: 0.9984\n",
            "+-----+----------+--------------------+\n",
            "|Label|prediction|         probability|\n",
            "+-----+----------+--------------------+\n",
            "|    1|       1.0|[2.59674554297195...|\n",
            "|    1|       1.0|[9.96035877867597...|\n",
            "|    1|       1.0|[9.96035877867597...|\n",
            "|    1|       1.0|[5.51404951847638...|\n",
            "|    1|       1.0|[5.51404951847638...|\n",
            "|    1|       1.0|[0.00169501336507...|\n",
            "|    1|       1.0|[9.39015171917814...|\n",
            "|    1|       1.0|[0.00198559808152...|\n",
            "|    1|       1.0|[1.24571353727507...|\n",
            "|    1|       1.0|[1.24571353727507...|\n",
            "|    1|       1.0|[1.62018057521911...|\n",
            "|    1|       1.0|[7.72656318430963...|\n",
            "|    1|       1.0|[7.72656318430963...|\n",
            "|    1|       1.0|[1.00491977392696...|\n",
            "|    1|       1.0|[0.00126193260840...|\n",
            "+-----+----------+--------------------+\n",
            "only showing top 15 rows\n",
            "\n",
            "<pyspark.ml.classification.BinaryLogisticRegressionTrainingSummary object at 0x7f5a66e23a10>\n"
          ]
        },
        {
          "output_type": "stream",
          "name": "stderr",
          "text": [
            "/usr/local/lib/python3.7/dist-packages/pyspark/sql/context.py:127: FutureWarning: Deprecated in 3.0.0. Use SparkSession.builder.getOrCreate() instead.\n",
            "  FutureWarning\n"
          ]
        },
        {
          "output_type": "display_data",
          "data": {
            "text/plain": [
              "<Figure size 432x288 with 1 Axes>"
            ],
            "image/png": "[encoded data removed]"
          },
          "metadata": {
            "needs_background": "light"
          }
        },
        {
          "output_type": "stream",
          "name": "stdout",
          "text": [
            "Model Accuracy 0.9982138443829854\n",
            "FP rate [0.0017531788514536647, 0.001819132382575052]\n",
            "TR rate [0.998180867617425, 0.9982468211485463]\n",
            "Total Actual Positive i.e. attack 64036\n",
            "Total Actual Negative,i.e. normal 443434\n",
            "Total 507470\n",
            "Total Positive & Negative predicted,  attack:  64767 ,normal 442703\n",
            "TruePostive 63946 FalsePostive 821\n",
            "TrueNegative 442613 FalseNegative 90\n",
            "Test accuracy =   0.9815145804469017\n",
            "DecisionTreeClassificationModel: uid=DecisionTreeClassifier_48f8871318c7, depth=4, numNodes=17, numClasses=14, numFeatures=48\n",
            "  If (feature 42 <= 1.504145067545624)\n",
            "   Predict: 0.0\n",
            "  Else (feature 42 > 1.504145067545624)\n",
            "   If (feature 3 <= 0.002162760202012499)\n",
            "    If (feature 45 <= 0.36597286725012745)\n",
            "     If (feature 1 <= 0.025626144557624846)\n",
            "      Predict: 2.0\n",
            "     Else (feature 1 > 0.025626144557624846)\n",
            "      Predict: 3.0\n",
            "    Else (feature 45 > 0.36597286725012745)\n",
            "     If (feature 17 <= 0.3784864169446288)\n",
            "      Predict: 1.0\n",
            "     Else (feature 17 > 0.3784864169446288)\n",
            "      Predict: 2.0\n",
            "   Else (feature 3 > 0.002162760202012499)\n",
            "    If (feature 1 <= 0.006670932868969008)\n",
            "     If (feature 1 <= 0.00599299253675671)\n",
            "      Predict: 2.0\n",
            "     Else (feature 1 > 0.00599299253675671)\n",
            "      Predict: 5.0\n",
            "    Else (feature 1 > 0.006670932868969008)\n",
            "     If (feature 1 <= 0.09637599762730022)\n",
            "      Predict: 3.0\n",
            "     Else (feature 1 > 0.09637599762730022)\n",
            "      Predict: 2.0\n",
            "\n"
          ]
        }
      ]
    },
    {
      "cell_type": "markdown",
      "metadata": {
        "id": "mIM6uLApSxi2"
      },
      "source": [
        "# **Convert ipynb to HTML for Turnitin submission**\n",
        "\n",
        "---\n",
        "\n"
      ]
    },
    {
      "cell_type": "code",
      "metadata": {
        "id": "ZrQu11N_DCfZ",
        "colab": {
          "base_uri": "https://localhost:8080/"
        },
        "outputId": "fedc655c-4cdd-4f91-b591-94d97e43d889"
      },
      "source": [
        "# install nbconvert (if facing with conversion error)\n",
        "!pip3 install nbconvert "
      ],
      "execution_count": null,
      "outputs": [
        {
          "output_type": "stream",
          "name": "stdout",
          "text": [
            "Requirement already satisfied: nbconvert in /usr/local/lib/python3.7/dist-packages (5.6.1)\n",
            "Requirement already satisfied: defusedxml in /usr/local/lib/python3.7/dist-packages (from nbconvert) (0.7.1)\n",
            "Requirement already satisfied: pandocfilters>=1.4.1 in /usr/local/lib/python3.7/dist-packages (from nbconvert) (1.5.0)\n",
            "Requirement already satisfied: jupyter-core in /usr/local/lib/python3.7/dist-packages (from nbconvert) (4.10.0)\n",
            "Requirement already satisfied: testpath in /usr/local/lib/python3.7/dist-packages (from nbconvert) (0.6.0)\n",
            "Requirement already satisfied: mistune<2,>=0.8.1 in /usr/local/lib/python3.7/dist-packages (from nbconvert) (0.8.4)\n",
            "Requirement already satisfied: traitlets>=4.2 in /usr/local/lib/python3.7/dist-packages (from nbconvert) (5.1.1)\n",
            "Requirement already satisfied: jinja2>=2.4 in /usr/local/lib/python3.7/dist-packages (from nbconvert) (2.11.3)\n",
            "Requirement already satisfied: entrypoints>=0.2.2 in /usr/local/lib/python3.7/dist-packages (from nbconvert) (0.4)\n",
            "Requirement already satisfied: nbformat>=4.4 in /usr/local/lib/python3.7/dist-packages (from nbconvert) (5.3.0)\n",
            "Requirement already satisfied: pygments in /usr/local/lib/python3.7/dist-packages (from nbconvert) (2.6.1)\n",
            "Requirement already satisfied: bleach in /usr/local/lib/python3.7/dist-packages (from nbconvert) (5.0.0)\n",
            "Requirement already satisfied: MarkupSafe>=0.23 in /usr/local/lib/python3.7/dist-packages (from jinja2>=2.4->nbconvert) (2.0.1)\n",
            "Requirement already satisfied: fastjsonschema in /usr/local/lib/python3.7/dist-packages (from nbformat>=4.4->nbconvert) (2.15.3)\n",
            "Requirement already satisfied: jsonschema>=2.6 in /usr/local/lib/python3.7/dist-packages (from nbformat>=4.4->nbconvert) (4.3.3)\n",
            "Requirement already satisfied: importlib-metadata in /usr/local/lib/python3.7/dist-packages (from jsonschema>=2.6->nbformat>=4.4->nbconvert) (4.11.3)\n",
            "Requirement already satisfied: pyrsistent!=0.17.0,!=0.17.1,!=0.17.2,>=0.14.0 in /usr/local/lib/python3.7/dist-packages (from jsonschema>=2.6->nbformat>=4.4->nbconvert) (0.18.1)\n",
            "Requirement already satisfied: importlib-resources>=1.4.0 in /usr/local/lib/python3.7/dist-packages (from jsonschema>=2.6->nbformat>=4.4->nbconvert) (5.7.1)\n",
            "Requirement already satisfied: typing-extensions in /usr/local/lib/python3.7/dist-packages (from jsonschema>=2.6->nbformat>=4.4->nbconvert) (4.2.0)\n",
            "Requirement already satisfied: attrs>=17.4.0 in /usr/local/lib/python3.7/dist-packages (from jsonschema>=2.6->nbformat>=4.4->nbconvert) (21.4.0)\n",
            "Requirement already satisfied: zipp>=3.1.0 in /usr/local/lib/python3.7/dist-packages (from importlib-resources>=1.4.0->jsonschema>=2.6->nbformat>=4.4->nbconvert) (3.8.0)\n",
            "Requirement already satisfied: six>=1.9.0 in /usr/local/lib/python3.7/dist-packages (from bleach->nbconvert) (1.15.0)\n",
            "Requirement already satisfied: webencodings in /usr/local/lib/python3.7/dist-packages (from bleach->nbconvert) (0.5.1)\n"
          ]
        }
      ]
    },
    {
      "cell_type": "code",
      "metadata": {
        "id": "ReZWnCYdDH66",
        "colab": {
          "base_uri": "https://localhost:8080/"
        },
        "outputId": "aca5e069-5f88-45b8-d3a1-c676775c0598"
      },
      "source": [
        "# convert ipynb to html\n",
        "\n",
        "!jupyter nbconvert --to html ML.ipynb"
      ],
      "execution_count": null,
      "outputs": [
        {
          "output_type": "stream",
          "name": "stdout",
          "text": [
            "[NbConvertApp] Converting notebook Group_27_ML_CN7030.ipynb to html\n",
            "[NbConvertApp] Writing 435246 bytes to Group_27_ML_CN7030.html\n"
          ]
        }
      ]
    }
  ]
}